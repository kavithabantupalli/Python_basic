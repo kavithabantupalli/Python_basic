{
  "nbformat": 4,
  "nbformat_minor": 0,
  "metadata": {
    "colab": {
      "provenance": [],
      "authorship_tag": "ABX9TyNPt2qBMo1YJBWpY84tpnUd",
      "include_colab_link": true
    },
    "kernelspec": {
      "name": "python3",
      "display_name": "Python 3"
    },
    "language_info": {
      "name": "python"
    }
  },
  "cells": [
    {
      "cell_type": "markdown",
      "metadata": {
        "id": "view-in-github",
        "colab_type": "text"
      },
      "source": [
        "<a href=\"https://colab.research.google.com/github/kavithabantupalli/Python_basic/blob/main/Phase2ACCENTURE_4.ipynb\" target=\"_parent\"><img src=\"https://colab.research.google.com/assets/colab-badge.svg\" alt=\"Open In Colab\"/></a>"
      ]
    },
    {
      "cell_type": "markdown",
      "source": [
        "**MATRIX**"
      ],
      "metadata": {
        "id": "Jj94TpPBgjtG"
      }
    },
    {
      "cell_type": "code",
      "source": [],
      "metadata": {
        "id": "vRmjTtAuOobb"
      },
      "execution_count": null,
      "outputs": []
    },
    {
      "cell_type": "code",
      "execution_count": null,
      "metadata": {
        "colab": {
          "base_uri": "https://localhost:8080/"
        },
        "id": "jz5UEcZGgdCt",
        "outputId": "b3848ef1-4db9-4864-8ea6-760eaaaf4e25"
      },
      "outputs": [
        {
          "name": "stdout",
          "output_type": "stream",
          "text": [
            "enter the element2\n"
          ]
        }
      ],
      "source": [
        "#create a matrix 2 rows and 3 colomns run time input\n",
        "n=int(input(\"enter the number of rows\"))\n",
        "m=int(input(\"enter the number of colomns\"))\n",
        "matrix=[]\n",
        "for i in range(n):\n",
        "   row=[]\n",
        "   for j in range(m):\n",
        "     element=int(input(\"enter the element\"))\n",
        "     row.append(element)\n",
        "   matrix.append(row)\n",
        "for i in matrix:\n",
        "  print(i)\n"
      ]
    },
    {
      "cell_type": "code",
      "source": [
        "matrix=[[1,2,3],[-4,-5,-6],[22,33,44]]\n",
        "print(matrix)"
      ],
      "metadata": {
        "id": "hcsHrvjNlfA2"
      },
      "execution_count": null,
      "outputs": []
    },
    {
      "cell_type": "code",
      "source": [
        " #tower of hanoi in run time input print the count\n",
        "\n",
        "def tower_of_hanoi(n, source, destination, auxiliary):\n",
        "  count = 0\n",
        "  if n == 1:\n",
        "    print(\"Move disk 1 from source\", source, \"to destination\", destination)\n",
        "    count += 1\n",
        "    return count\n",
        "  else:\n",
        "    count += tower_of_hanoi(n-1, source, auxiliary, destination)\n",
        "    print(\"Move disk\", n, \"from source\", source, \"to destination\", destination)\n",
        "    count += 1\n",
        "    count += tower_of_hanoi(n-1, auxiliary, destination, source)\n",
        "    return count\n",
        "\n",
        "n = int(input(\"Enter the number of disks: \"))\n",
        "count = tower_of_hanoi(n, 'A', 'C', 'B')\n",
        "print(\"Total moves:\", count)"
      ],
      "metadata": {
        "colab": {
          "base_uri": "https://localhost:8080/"
        },
        "id": "SG77B-MQlEYR",
        "outputId": "bf553cb3-d19c-4e19-9226-8c82f4e3ec08"
      },
      "execution_count": null,
      "outputs": [
        {
          "output_type": "stream",
          "name": "stdout",
          "text": [
            "Enter the number of disks: 3\n",
            "Move disk 1 from source A to destination C\n",
            "Move disk 2 from source A to destination B\n",
            "Move disk 1 from source C to destination B\n",
            "Move disk 3 from source A to destination C\n",
            "Move disk 1 from source B to destination A\n",
            "Move disk 2 from source B to destination C\n",
            "Move disk 1 from source A to destination C\n",
            "Total moves: 7\n"
          ]
        }
      ]
    },
    {
      "cell_type": "code",
      "source": [
        "#  fibonacci series recursive\n",
        "\n",
        "def fibonacci_recursive(n):\n",
        "\n",
        "  if n <= 1:\n",
        "    return n\n",
        "  else:\n",
        "    return fibonacci_recursive(n - 1) + fibonacci_recursive(n - 2)\n",
        "\n",
        "\n",
        "# Get the number of terms from the user\n",
        "num_terms = int(input(\"Enter the number of terms: \"))\n",
        "\n",
        "# Print the Fibonacci series\n",
        "for i in range(num_terms):\n",
        "  print(fibonacci_recursive(i), end=\" \")\n"
      ],
      "metadata": {
        "colab": {
          "base_uri": "https://localhost:8080/"
        },
        "id": "ksigm3xslGXA",
        "outputId": "651da4c2-e911-40c4-b3b6-94d9c3e13821"
      },
      "execution_count": null,
      "outputs": [
        {
          "output_type": "stream",
          "name": "stdout",
          "text": [
            "Enter the number of terms: 2\n",
            "0 1 "
          ]
        }
      ]
    },
    {
      "cell_type": "code",
      "source": [],
      "metadata": {
        "id": "x-KYpqwqoADI"
      },
      "execution_count": null,
      "outputs": []
    }
  ]
}