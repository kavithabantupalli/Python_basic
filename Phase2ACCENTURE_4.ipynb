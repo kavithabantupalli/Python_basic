{
  "nbformat": 4,
  "nbformat_minor": 0,
  "metadata": {
    "colab": {
      "provenance": [],
      "authorship_tag": "ABX9TyNzxWWVR0gbw07MWhtymXOq",
      "include_colab_link": true
    },
    "kernelspec": {
      "name": "python3",
      "display_name": "Python 3"
    },
    "language_info": {
      "name": "python"
    }
  },
  "cells": [
    {
      "cell_type": "markdown",
      "metadata": {
        "id": "view-in-github",
        "colab_type": "text"
      },
      "source": [
        "<a href=\"https://colab.research.google.com/github/kavithabantupalli/Python_basic/blob/main/Phase2ACCENTURE_4.ipynb\" target=\"_parent\"><img src=\"https://colab.research.google.com/assets/colab-badge.svg\" alt=\"Open In Colab\"/></a>"
      ]
    },
    {
      "cell_type": "markdown",
      "source": [
        "#**matrix**     comprehension     \n",
        "#**syntax: matrix=**[expression forloop condition]"
      ],
      "metadata": {
        "id": "K2d9d_dnq6pW"
      }
    },
    {
      "cell_type": "code",
      "execution_count": null,
      "metadata": {
        "colab": {
          "base_uri": "https://localhost:8080/"
        },
        "id": "xufTCDnJq4KM",
        "outputId": "13964e24-4493-4158-beb1-2a59e084e7a6"
      },
      "outputs": [
        {
          "name": "stdout",
          "output_type": "stream",
          "text": [
            "enter no of rows:2\n",
            "enter no of columns:2\n"
          ]
        }
      ],
      "source": [
        "#empty matrix\n",
        "r=int(input(\"enter no of rows:\"))\n",
        "c=int(input(\"enter no of columns:\"))\n",
        "m=[[0 for j in range(r)] for i in range(c)]\n",
        "print(m)"
      ]
    },
    {
      "cell_type": "code",
      "source": [
        "#compile time matrix creation\n",
        "matrix=[[1,2,3],[-4,-5,-6],[22,33,44]]\n",
        "for i in matrix:\n",
        "  print(i)"
      ],
      "metadata": {
        "colab": {
          "base_uri": "https://localhost:8080/"
        },
        "id": "_HS51UL-sLR-",
        "outputId": "4f674ffa-ce7d-4552-f6d4-410221f64122"
      },
      "execution_count": null,
      "outputs": [
        {
          "output_type": "stream",
          "name": "stdout",
          "text": [
            "[1, 2, 3]\n",
            "[-4, -5, -6]\n",
            "[22, 33, 44]\n"
          ]
        }
      ]
    },
    {
      "cell_type": "code",
      "source": [
        "#create a matrix 2 rows and 3 colomns run time input\n",
        "n=int(input(\"enter the number of rows\"))\n",
        "m=int(input(\"enter the number of colomns\"))\n",
        "matrix=[]\n",
        "for i in range(n):\n",
        "   row=[]\n",
        "   for j in range(m):\n",
        "     element=int(input(\"enter the element\"))\n",
        "     row.append(element)\n",
        "   matrix.append(row)\n",
        "for i in matrix:\n",
        "  print(i)\n"
      ],
      "metadata": {
        "colab": {
          "base_uri": "https://localhost:8080/"
        },
        "id": "R9YJ1a1jq6aQ",
        "outputId": "12ec1464-925d-4174-d07a-a6d1ae3d4b43"
      },
      "execution_count": null,
      "outputs": [
        {
          "output_type": "stream",
          "name": "stdout",
          "text": [
            "enter the number of rows2\n",
            "enter the number of colomns2\n",
            "enter the element1\n",
            "enter the element2\n",
            "enter the element-2\n",
            "enter the element-4\n",
            "[1, 2]\n",
            "[-2, -4]\n"
          ]
        }
      ]
    },
    {
      "cell_type": "markdown",
      "source": [
        "#**comprehension matrix for diogonal matrix**"
      ],
      "metadata": {
        "id": "QZ3K7r_lwzHe"
      }
    },
    {
      "cell_type": "code",
      "source": [
        "#python input comprehension matrix for diogonal matrix\n",
        "r=int(input(\"enter no of rows:\"))\n",
        "c=int(input(\"enter no of columns:\"))\n",
        "m=[[1 if i==j else 0 for j in range(r)] for i in range(c)]\n",
        "for _ in m:\n",
        "  print(_)"
      ],
      "metadata": {
        "colab": {
          "base_uri": "https://localhost:8080/"
        },
        "id": "k_V75eTSsXXF",
        "outputId": "7963b8a1-c713-4abd-f011-4cf492602200"
      },
      "execution_count": null,
      "outputs": [
        {
          "output_type": "stream",
          "name": "stdout",
          "text": [
            "enter no of rows:3\n",
            "enter no of columns:3\n",
            "[1, 0, 0]\n",
            "[0, 1, 0]\n",
            "[0, 0, 1]\n"
          ]
        }
      ]
    },
    {
      "cell_type": "markdown",
      "source": [
        "#**without using comprehension in input create a diagonal mattrix**"
      ],
      "metadata": {
        "id": "ENYq2TOdxKkP"
      }
    },
    {
      "cell_type": "code",
      "source": [
        "#with out using comprehension in input create a diagonal matrix\n",
        "r=int(input(\"enter no of rows: \"))\n",
        "c=int(input(\"enter no of columns: \"))\n",
        "m=[]\n",
        "for i in range(r):\n",
        "  row=[]\n",
        "  for j in range(c):\n",
        "    if i==j:\n",
        "      row.append(1)\n",
        "    else:\n",
        "      row.append(0)\n",
        "  m.append(row)\n",
        "for row in m:\n",
        "  print(row)"
      ],
      "metadata": {
        "colab": {
          "base_uri": "https://localhost:8080/"
        },
        "id": "TgQw3PVds68G",
        "outputId": "5e5bdbcb-3225-43c0-f5e2-07803efb21e3"
      },
      "execution_count": null,
      "outputs": [
        {
          "output_type": "stream",
          "name": "stdout",
          "text": [
            "enter no of rows: 3\n",
            "enter no of columns: 3\n",
            "[1, 0, 0]\n",
            "[0, 1, 0]\n",
            "[0, 0, 1]\n"
          ]
        }
      ]
    },
    {
      "cell_type": "markdown",
      "source": [
        "#**Transpose matrix**"
      ],
      "metadata": {
        "id": "K7n2gtZZxW0N"
      }
    },
    {
      "cell_type": "code",
      "source": [
        "#matrix\n",
        "matrix=[[1,2,3],\n",
        "        [-4,-5,-6],\n",
        "        [22,33,44]]\n",
        "for i in range(len(matrix[0])):\n",
        "  for j in range(len(matrix)):\n",
        "    print(matrix[j][i],end=\" \")\n",
        "  print()\n"
      ],
      "metadata": {
        "colab": {
          "base_uri": "https://localhost:8080/"
        },
        "id": "oqh1w7R0uhpJ",
        "outputId": "9477bdb3-b949-40a8-c3a7-d8ffcbb66801"
      },
      "execution_count": null,
      "outputs": [
        {
          "output_type": "stream",
          "name": "stdout",
          "text": [
            "1 -4 22 \n",
            "2 -5 33 \n",
            "3 -6 44 \n"
          ]
        }
      ]
    },
    {
      "cell_type": "code",
      "source": [
        "# transpose matrix\n",
        "\n",
        "matrix = [[1, 2, 3],\n",
        "          [-4, -5, -6],\n",
        "          [22, 33, 44]]\n",
        "\n",
        "transpose = [[matrix[j][i] for j in range(len(matrix))] for i in range(len(matrix[0]))]\n",
        "\n",
        "for row in transpose:\n",
        "  print(row)"
      ],
      "metadata": {
        "colab": {
          "base_uri": "https://localhost:8080/"
        },
        "id": "yGD0Et896Nj2",
        "outputId": "4cc58a88-7777-4f32-9fdb-fc2103db6616"
      },
      "execution_count": null,
      "outputs": [
        {
          "output_type": "stream",
          "name": "stdout",
          "text": [
            "[1, -4, 22]\n",
            "[2, -5, 33]\n",
            "[3, -6, 44]\n"
          ]
        }
      ]
    },
    {
      "cell_type": "code",
      "source": [
        "#recursion for sum of two numbers\n",
        "def sum(a,b):\n",
        "  if b==0:\n",
        "    return a\n",
        "  else:\n",
        "    return 1+sum(a,b-1)\n",
        "\n",
        "a=int(input(\"enter the first number\"))\n",
        "b=int(input(\"enter the second number\"))\n",
        "print(sum(a,b))\n"
      ],
      "metadata": {
        "colab": {
          "base_uri": "https://localhost:8080/"
        },
        "id": "J7ZBuPbx6q6m",
        "outputId": "295f6106-5d88-4426-eee6-7e1cfec3c630"
      },
      "execution_count": null,
      "outputs": [
        {
          "output_type": "stream",
          "name": "stdout",
          "text": [
            "enter the first number2\n",
            "enter the second number4\n",
            "6\n"
          ]
        }
      ]
    },
    {
      "cell_type": "code",
      "source": [
        "#factorial\n",
        "def fact(n):\n",
        "  if n==0 or n==1:\n",
        "    return 1\n",
        "  else:\n",
        "    return n*fact(n-1)\n",
        "n=int(input(\"enter the number: \"))\n",
        "print(fact(n))"
      ],
      "metadata": {
        "colab": {
          "base_uri": "https://localhost:8080/"
        },
        "id": "mZZCIBGOBzNF",
        "outputId": "22ec98ef-0dba-42d4-d254-dbcd1bd9f27d"
      },
      "execution_count": null,
      "outputs": [
        {
          "output_type": "stream",
          "name": "stdout",
          "text": [
            "enter the number: 5\n",
            "120\n"
          ]
        }
      ]
    },
    {
      "cell_type": "code",
      "source": [
        "#sum of natural numbers\n",
        "def fact(n):\n",
        "  if n==1:\n",
        "    return 1\n",
        "  else:\n",
        "    return n+fact(n-1)\n",
        "n=int(input(\"enter the number: \"))\n",
        "print(fact(n))"
      ],
      "metadata": {
        "colab": {
          "base_uri": "https://localhost:8080/"
        },
        "id": "BTIeFaPDCVVG",
        "outputId": "3a22b135-a85c-4de4-ce59-a7fa4c390779"
      },
      "execution_count": null,
      "outputs": [
        {
          "output_type": "stream",
          "name": "stdout",
          "text": [
            "enter the number: 3\n",
            "6\n"
          ]
        }
      ]
    },
    {
      "cell_type": "markdown",
      "source": [
        "#**palindrom using recursion**"
      ],
      "metadata": {
        "id": "vlnjBnT1GnKY"
      }
    },
    {
      "cell_type": "code",
      "source": [
        "#using recursion\n",
        "def palindrom(s):\n",
        "  if len(s)<=1:\n",
        "    return True\n",
        "  else:\n",
        "    if s[0]==s[-1]:\n",
        "      return palindrom(s[1:-1])\n",
        "    else:\n",
        "      return False\n",
        "\n",
        "s=input()\n",
        "print(palindrom(s))\n"
      ],
      "metadata": {
        "colab": {
          "base_uri": "https://localhost:8080/"
        },
        "id": "ILCgNhutDYGV",
        "outputId": "3dd6b1de-cd6e-488a-d35a-62ccc807e3d3"
      },
      "execution_count": null,
      "outputs": [
        {
          "output_type": "stream",
          "name": "stdout",
          "text": [
            "malayalam\n",
            "True\n"
          ]
        }
      ]
    },
    {
      "cell_type": "code",
      "source": [
        "palindrom=input()\n",
        "if palindrom==palindrom[::-1]:\n",
        "  print(\"true\")\n",
        "else:\n",
        "  print(\"false\")"
      ],
      "metadata": {
        "colab": {
          "base_uri": "https://localhost:8080/"
        },
        "id": "iBZhlnaqIA4V",
        "outputId": "eef0f8e0-6281-4992-8ff1-577734321c0f"
      },
      "execution_count": null,
      "outputs": [
        {
          "output_type": "stream",
          "name": "stdout",
          "text": [
            "malayalam\n",
            "true\n"
          ]
        }
      ]
    },
    {
      "cell_type": "code",
      "source": [
        "#integer number reverse\n",
        "n=int(input())\n",
        "rev=0\n",
        "while n>0:\n",
        "  rev=rev*10+n%10\n",
        "  n=n//10\n",
        "print(rev)"
      ],
      "metadata": {
        "colab": {
          "base_uri": "https://localhost:8080/"
        },
        "id": "UmrZ8ktOILhU",
        "outputId": "f20d06b0-e4c7-433c-f479-843f544a6bb6"
      },
      "execution_count": null,
      "outputs": [
        {
          "output_type": "stream",
          "name": "stdout",
          "text": [
            "143\n",
            "341\n"
          ]
        }
      ]
    },
    {
      "cell_type": "code",
      "source": [
        "#reverse the integer using recursion\n",
        "def rev(n):\n",
        "  if n<10:\n",
        "    return n\n",
        "  else:\n",
        "    return int(str(n%10)+str(rev(n//10)))\n",
        "n=int(input())\n",
        "print(rev(n))\n"
      ],
      "metadata": {
        "colab": {
          "base_uri": "https://localhost:8080/"
        },
        "id": "Jd_n6iMhJkz3",
        "outputId": "874d1867-4c6d-42c1-e738-f22756cef50a"
      },
      "execution_count": null,
      "outputs": [
        {
          "output_type": "stream",
          "name": "stdout",
          "text": [
            "143\n",
            "341\n"
          ]
        }
      ]
    },
    {
      "cell_type": "markdown",
      "source": [
        "#**SORTING ---> MERGE SORT**"
      ],
      "metadata": {
        "id": "E1Su96RZpZZv"
      }
    },
    {
      "cell_type": "code",
      "source": [
        "#merge sort\n",
        "def merge_sort(arr,left,right):\n",
        "  if left<right:\n",
        "    mid=(left+right)//2\n",
        "    merge_sort(arr,left,mid)\n",
        "    merge_sort(arr,mid+1,right)\n",
        "    merge(arr,left,mid,right)\n",
        "def merge(arr,left,mid,right):\n",
        "  n1=mid-left+1\n",
        "  n2=right-mid\n",
        "  L=arr[left:mid+n1]\n",
        "  R=arr[mid+1:mid+1+n2]\n",
        "  i=j=0\n",
        "  k=left\n",
        "  while i<n1 and j<n2:\n",
        "    if L[i]<=R[j]:\n",
        "      arr[k]=L[i]\n",
        "      i+=1\n",
        "    else:\n",
        "      arr[k]=R[j]\n",
        "      j+=1\n",
        "    k+=1\n",
        "  while i<n1:\n",
        "    arr[k]=L[i]\n",
        "    i+=1\n",
        "    k+=1\n",
        "  while j<n2:\n",
        "    arr[k]=R[j]\n",
        "    j+=1\n",
        "    k+=1\n",
        "\n",
        "arr=list(map(int,input().split()))\n",
        "merge_sort(arr,0,len(arr)-1)\n",
        "print(arr)\n"
      ],
      "metadata": {
        "colab": {
          "base_uri": "https://localhost:8080/"
        },
        "id": "kx6MoQdwLz2F",
        "outputId": "775e4e49-f799-47b2-ed08-516800f5cde2"
      },
      "execution_count": null,
      "outputs": [
        {
          "output_type": "stream",
          "name": "stdout",
          "text": [
            "1 6 3 8 2 9 5\n",
            "[1, 2, 3, 5, 6, 8, 9]\n"
          ]
        }
      ]
    },
    {
      "cell_type": "markdown",
      "source": [
        "**matrix has r rows and c columns all the numbers in increasing order start from 1 and in row wise o\\p:    \n",
        "\n",
        "1 2 3\n",
        "\n",
        "4 5 6\n",
        "\n",
        "7 8 9"
      ],
      "metadata": {
        "id": "CG2wDTPIqJxX"
      }
    },
    {
      "cell_type": "code",
      "source": [
        "def fun(n):\n",
        "  matrix = []\n",
        "  count = 1\n",
        "  for i in range(n):\n",
        "    row = []\n",
        "    for j in range(n):\n",
        "      row.append(count)\n",
        "      count += 1\n",
        "    matrix.append(row)\n",
        "  return matrix\n",
        "\n",
        "n = int(input())\n",
        "result_matrix = fun(n)\n",
        "\n",
        "for row in result_matrix:\n",
        "  print(row)"
      ],
      "metadata": {
        "id": "A68lvQMay7Dt",
        "colab": {
          "base_uri": "https://localhost:8080/"
        },
        "outputId": "28d45655-b25e-4637-f56f-1264af0d9f1d"
      },
      "execution_count": null,
      "outputs": [
        {
          "output_type": "stream",
          "name": "stdout",
          "text": [
            "3\n",
            "[1, 2, 3]\n",
            "[4, 5, 6]\n",
            "[7, 8, 9]\n"
          ]
        }
      ]
    },
    {
      "cell_type": "code",
      "source": [
        "#matrix using single line print 1 to 9 number in matrix\n",
        "[a,b]=[int(x) for x in input().split()] # 3 by 3 rows and col\n",
        "count=1\n",
        "matrix=[]\n",
        "for i in range(a):\n",
        "  row=[]\n",
        "  for j in range(b):\n",
        "    row.append(count)\n",
        "    count=count+1\n",
        "  matrix.append(row)\n",
        "for i in matrix:\n",
        "  print(i)\n",
        "\n"
      ],
      "metadata": {
        "colab": {
          "base_uri": "https://localhost:8080/"
        },
        "id": "wWUVznjyrLoE",
        "outputId": "dafddc9f-0378-437c-8245-6b30b5683704"
      },
      "execution_count": null,
      "outputs": [
        {
          "output_type": "stream",
          "name": "stdout",
          "text": [
            "3 3\n",
            "[1, 2, 3]\n",
            "[4, 5, 6]\n",
            "[7, 8, 9]\n"
          ]
        }
      ]
    },
    {
      "cell_type": "code",
      "source": [
        "#print the 1 to 9 numbers\n",
        "[a,b]=[int(x) for x in input().split()]\n",
        "c=0\n",
        "for i in range(a):\n",
        "  for j in range(b):\n",
        "    c+=1\n",
        "    print(c,end=\" \")\n",
        "  print()\n"
      ],
      "metadata": {
        "colab": {
          "base_uri": "https://localhost:8080/"
        },
        "id": "GkWJ41zytma_",
        "outputId": "645ff2c1-85fe-4b22-9475-f066986c1317"
      },
      "execution_count": null,
      "outputs": [
        {
          "output_type": "stream",
          "name": "stdout",
          "text": [
            "3 3\n",
            "1 2 3 \n",
            "4 5 6 \n",
            "7 8 9 \n"
          ]
        }
      ]
    },
    {
      "cell_type": "code",
      "source": [
        "#symentrix matrix\n",
        "m=int(input())\n",
        "m=[[int(input()) for j in range(a)] for i in range(a)]\n",
        "print(m)\n",
        "for i in range(a):\n",
        "  for j in range(a):\n",
        "    #if i==j or i+j==a-1:#if i==j or (i>0 and j<i) #\n",
        "    if j<=i:\n",
        "      print(m[i][j],end=\" \")\n",
        "    else:\n",
        "      print(0,end=\" \")\n",
        "  print()"
      ],
      "metadata": {
        "colab": {
          "base_uri": "https://localhost:8080/"
        },
        "id": "bVXA7ANftxbJ",
        "outputId": "29912560-7004-4621-fc6a-5a28421da7a5"
      },
      "execution_count": null,
      "outputs": [
        {
          "output_type": "stream",
          "name": "stdout",
          "text": [
            "5\n",
            "1\n",
            "2\n",
            "3\n",
            "4\n",
            "5\n",
            "6\n",
            "7\n",
            "8\n",
            "9\n",
            "[[1, 2, 3], [4, 5, 6], [7, 8, 9]]\n",
            "1 0 0 \n",
            "4 5 0 \n",
            "7 8 9 \n"
          ]
        }
      ]
    },
    {
      "cell_type": "code",
      "source": [
        "#if the matrix is transposed if it is same as original  matrix print yes or no\n",
        "\n"
      ],
      "metadata": {
        "id": "X5-55H2Ny3XL"
      },
      "execution_count": null,
      "outputs": []
    },
    {
      "cell_type": "code",
      "source": [
        "#\n",
        "a=[5,5,10,5]\n",
        "s=10\n",
        "c=0\n",
        "for i in range(len(a)):\n",
        "  for j in range(i+1,len(a)):\n",
        "    if a[i]+a[j]==s:\n",
        "      c+=1\n",
        "\n",
        "print(\"count:\",c)\n"
      ],
      "metadata": {
        "colab": {
          "base_uri": "https://localhost:8080/"
        },
        "id": "nZHcOlfs3LGf",
        "outputId": "66334afb-d73b-4a57-e85c-29f1b42bd506"
      },
      "execution_count": null,
      "outputs": [
        {
          "output_type": "stream",
          "name": "stdout",
          "text": [
            "count: 3\n"
          ]
        }
      ]
    },
    {
      "cell_type": "code",
      "source": [],
      "metadata": {
        "id": "3OJxHUVOIOVi"
      },
      "execution_count": null,
      "outputs": []
    }
  ]
}