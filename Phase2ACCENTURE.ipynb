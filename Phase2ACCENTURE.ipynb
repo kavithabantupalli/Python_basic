{
  "cells": [
    {
      "cell_type": "markdown",
      "metadata": {
        "id": "view-in-github",
        "colab_type": "text"
      },
      "source": [
        "<a href=\"https://colab.research.google.com/github/kavithabantupalli/Python_basic/blob/main/Phase2ACCENTURE.ipynb\" target=\"_parent\"><img src=\"https://colab.research.google.com/assets/colab-badge.svg\" alt=\"Open In Colab\"/></a>"
      ]
    },
    {
      "cell_type": "markdown",
      "metadata": {
        "id": "0FeNDqkb07kP"
      },
      "source": [
        "**Check whether a character is a vowel or consonant**"
      ]
    },
    {
      "cell_type": "code",
      "execution_count": null,
      "metadata": {
        "colab": {
          "base_uri": "https://localhost:8080/"
        },
        "id": "xxwcxBCw0w20",
        "outputId": "da2022f8-3e1c-438c-d270-5eb2c4501ba4"
      },
      "outputs": [
        {
          "name": "stdout",
          "output_type": "stream",
          "text": [
            "n\n",
            "The character is a consonant \n"
          ]
        }
      ],
      "source": [
        "s=input()\n",
        "vowel=\"aeiouAEIOU\"\n",
        "\n",
        "if s in vowel:\n",
        "  print(\"The character is a vowel\")\n",
        "else:\n",
        "  print(\"The character is a consonant \")''\n",
        ".\n"
      ]
    },
    {
      "cell_type": "markdown",
      "metadata": {
        "id": "WF3P2p3N6YBF"
      },
      "source": [
        "**check whether a character is a alphabet or not**"
      ]
    },
    {
      "cell_type": "code",
      "execution_count": null,
      "metadata": {
        "colab": {
          "base_uri": "https://localhost:8080/"
        },
        "id": "Ot-kVqMt59ZH",
        "outputId": "e8f60a55-03fc-4317-a1a2-168d0bdc69c3"
      },
      "outputs": [
        {
          "name": "stdout",
          "output_type": "stream",
          "text": [
            "a\n",
            "The character is a alphabet\n"
          ]
        }
      ],
      "source": [
        "s=input()\n",
        "#x=\"abcdefghijklmnopqrstuvwxyzABCDEFGHIJKLMNOPQRSTUVWXYZ\"\n",
        "#if s.isalpha():\n",
        "if s>='a' and s<='z' or s>='A' and s<='Z':\n",
        "#if s in x:\n",
        "  print(\"The character is a alphabet\")\n",
        "else:\n",
        "  print(\"The character is not a alphabet\")"
      ]
    },
    {
      "cell_type": "markdown",
      "metadata": {
        "id": "9WN3KS9i8eC5"
      },
      "source": [
        "**find the ascii value of a character**\n"
      ]
    },
    {
      "cell_type": "code",
      "execution_count": null,
      "metadata": {
        "colab": {
          "base_uri": "https://localhost:8080/"
        },
        "id": "Uj_iI1s666SS",
        "outputId": "50853c0b-a024-4845-a8e7-64a9b6c41019"
      },
      "outputs": [
        {
          "name": "stdout",
          "output_type": "stream",
          "text": [
            "F\n",
            "70\n"
          ]
        }
      ],
      "source": [
        "s=input()\n",
        "print(ord(s))"
      ]
    },
    {
      "cell_type": "markdown",
      "metadata": {
        "id": "kaZS7S5X9dPx"
      },
      "source": [
        "**Toggle each character in a string**"
      ]
    },
    {
      "cell_type": "code",
      "execution_count": null,
      "metadata": {
        "colab": {
          "base_uri": "https://localhost:8080/"
        },
        "id": "mLy4D28i9Zco",
        "outputId": "316d2a89-c36d-4b18-beea-b6faba32b331"
      },
      "outputs": [
        {
          "name": "stdout",
          "output_type": "stream",
          "text": [
            "KaVIth\n",
            "kAviTH"
          ]
        }
      ],
      "source": [
        "s=input()\n",
        "#x=s.swapcase()\n",
        "#print(x)\n",
        "for i in s:\n",
        "  if i.isupper():\n",
        "    print(i.lower(),end=\"\")\n",
        "  else:\n",
        "    print(i.upper(),end=\"\")"
      ]
    },
    {
      "cell_type": "markdown",
      "metadata": {
        "id": "HYaZ8LC3FX5N"
      },
      "source": [
        "**Count the number of vowels in string**"
      ]
    },
    {
      "cell_type": "code",
      "execution_count": null,
      "metadata": {
        "colab": {
          "base_uri": "https://localhost:8080/"
        },
        "id": "RBitoTaRBxkG",
        "outputId": "5555cda2-7ca2-4e79-cee3-676e9df48128"
      },
      "outputs": [
        {
          "name": "stdout",
          "output_type": "stream",
          "text": [
            "kavi\n",
            "2\n"
          ]
        }
      ],
      "source": [
        "s=input()\n",
        "vowel=\"aeiouAEIOU\"\n",
        "\n",
        "count=0\n",
        "for i in s:\n",
        "  if i in vowel:\n",
        "    count=count+1\n",
        "print(count)"
      ]
    },
    {
      "cell_type": "markdown",
      "metadata": {
        "id": "UdpGGBllHH3m"
      },
      "source": [
        "**length of the string without using strlen() function**"
      ]
    },
    {
      "cell_type": "code",
      "execution_count": null,
      "metadata": {
        "colab": {
          "base_uri": "https://localhost:8080/"
        },
        "id": "hNIBzMVPGB0E",
        "outputId": "3ee34059-dc8b-48ee-8330-2dd369ffeec5"
      },
      "outputs": [
        {
          "name": "stdout",
          "output_type": "stream",
          "text": [
            "kavitha\n",
            "7\n"
          ]
        }
      ],
      "source": [
        "s=input()\n",
        "count=0\n",
        "for i in s:\n",
        "  count=count+1\n",
        "print(count)"
      ]
    },
    {
      "cell_type": "markdown",
      "metadata": {
        "id": "wkofb6GRHfs1"
      },
      "source": [
        "**remove the vowels from a string**"
      ]
    },
    {
      "cell_type": "code",
      "execution_count": null,
      "metadata": {
        "colab": {
          "base_uri": "https://localhost:8080/"
        },
        "id": "ZbD8qi3_HbKr",
        "outputId": "d0a5a95a-1320-4b7e-bf3b-a0b8660e1ee6"
      },
      "outputs": [
        {
          "name": "stdout",
          "output_type": "stream",
          "text": [
            "kavitha\n",
            "kvth\n"
          ]
        }
      ],
      "source": [
        "s=input()\n",
        "vowel=\"aeiouAEIOU\"\n",
        "list=[]\n",
        "for i in s:\n",
        "  if i not in vowel:\n",
        "    list.append(i)\n",
        "print(''.join(list))"
      ]
    },
    {
      "cell_type": "markdown",
      "metadata": {
        "id": "fDZLB3pYIw4n"
      },
      "source": [
        "**check if the given string is palindrom or not**"
      ]
    },
    {
      "cell_type": "code",
      "execution_count": null,
      "metadata": {
        "colab": {
          "base_uri": "https://localhost:8080/"
        },
        "id": "CmovqoM6IUV2",
        "outputId": "ba40bb4d-26ba-4178-c72b-616066f3ff59"
      },
      "outputs": [
        {
          "name": "stdout",
          "output_type": "stream",
          "text": [
            "mam\n",
            "The string is palindrom\n"
          ]
        }
      ],
      "source": [
        "s=input()\n",
        "if s==s[::-1]:\n",
        "  print(\"The string is palindrom\")\n",
        "else:\n",
        "  print(\"The string is not palindrom\")"
      ]
    },
    {
      "cell_type": "markdown",
      "metadata": {
        "id": "uFQ_K3jdMz0r"
      },
      "source": [
        "**print the given string in reverse order**"
      ]
    },
    {
      "cell_type": "code",
      "execution_count": null,
      "metadata": {
        "colab": {
          "base_uri": "https://localhost:8080/"
        },
        "id": "3YKw-GPaJLOX",
        "outputId": "c54ca510-448e-4f1a-889a-22548a6f80d8"
      },
      "outputs": [
        {
          "name": "stdout",
          "output_type": "stream",
          "text": [
            "kavi\n",
            "ivak\n"
          ]
        }
      ],
      "source": [
        "s=input()\n",
        "rev=s[::-1]\n",
        "print(rev)"
      ]
    },
    {
      "cell_type": "markdown",
      "metadata": {
        "id": "RnCF9tFuN7_t"
      },
      "source": [
        "**remove all characters from string except alphabets**"
      ]
    },
    {
      "cell_type": "code",
      "execution_count": null,
      "metadata": {
        "colab": {
          "base_uri": "https://localhost:8080/"
        },
        "id": "NIfThp8jNKdH",
        "outputId": "fb79dc26-bcd5-4a15-9de6-ba75599d275b"
      },
      "outputs": [
        {
          "name": "stdout",
          "output_type": "stream",
          "text": [
            "kavi@tha14\n",
            "kavitha\n"
          ]
        }
      ],
      "source": [
        "s=input()\n",
        "li=[]\n",
        "for i in s:\n",
        "  if i>='a' and i<='z' or i>='A' and i<='Z':\n",
        "    li.append(i)\n",
        "print(''.join(li))"
      ]
    },
    {
      "cell_type": "markdown",
      "metadata": {
        "id": "LAfnheiXPwdO"
      },
      "source": [
        "**remove space from  a string**"
      ]
    },
    {
      "cell_type": "code",
      "execution_count": null,
      "metadata": {
        "colab": {
          "base_uri": "https://localhost:8080/"
        },
        "id": "qo5hDUHQPTwB",
        "outputId": "f9645f37-5a64-45e3-d823-a650f6c71ecd"
      },
      "outputs": [
        {
          "name": "stdout",
          "output_type": "stream",
          "text": [
            "kavi tha \n",
            "kavitha\n"
          ]
        }
      ],
      "source": [
        "s=input()\n",
        "li=[]\n",
        "for i in s:\n",
        "  if i!=' ':\n",
        "    li.append(i)\n",
        "print(''.join(li))"
      ]
    },
    {
      "cell_type": "code",
      "execution_count": null,
      "metadata": {
        "colab": {
          "base_uri": "https://localhost:8080/"
        },
        "id": "5YFbxPBDQrNB",
        "outputId": "91babfad-a4f0-48b2-b7c8-44a0716b79c0"
      },
      "outputs": [
        {
          "name": "stdout",
          "output_type": "stream",
          "text": [
            "kavi tha\n"
          ]
        }
      ],
      "source": [
        "print(\"kavi\",\"th\" \"a\")"
      ]
    },
    {
      "cell_type": "markdown",
      "metadata": {
        "id": "hi-S0CQxRlDO"
      },
      "source": [
        "**remove brackets from an algebraic expression**"
      ]
    },
    {
      "cell_type": "code",
      "execution_count": null,
      "metadata": {
        "id": "g133y4X8RUYc"
      },
      "outputs": [],
      "source": []
    },
    {
      "cell_type": "markdown",
      "metadata": {
        "id": "pLKgQB7xSqvX"
      },
      "source": [
        "**count the sum of numbers in the string**"
      ]
    },
    {
      "cell_type": "code",
      "execution_count": null,
      "metadata": {
        "colab": {
          "base_uri": "https://localhost:8080/"
        },
        "id": "ajYqrtN6S1Si",
        "outputId": "5c1457fa-1fff-4a45-c736-2e68251661f8"
      },
      "outputs": [
        {
          "name": "stdout",
          "output_type": "stream",
          "text": [
            "kavi14\n",
            "5\n"
          ]
        }
      ],
      "source": [
        "s=input()\n",
        "sum=0\n",
        "for i in s:\n",
        "  if i.isdigit():\n",
        "    sum=sum+int(i)\n",
        "\n",
        "print(sum)"
      ]
    },
    {
      "cell_type": "markdown",
      "metadata": {
        "id": "yyC713Xi1xcK"
      },
      "source": [
        "**PATTERNS**"
      ]
    },
    {
      "cell_type": "code",
      "execution_count": null,
      "metadata": {
        "colab": {
          "base_uri": "https://localhost:8080/"
        },
        "id": "wGxlJmSe_COG",
        "outputId": "ac686bdc-aa97-4010-ba1a-ec93601ab559"
      },
      "outputs": [
        {
          "name": "stdout",
          "output_type": "stream",
          "text": [
            "5\n",
            "*****\n",
            "*****\n",
            "*****\n",
            "*****\n",
            "*****\n"
          ]
        }
      ],
      "source": [
        "x=int(input())\n",
        "for row in range(x):\n",
        "    print(\"*\"*x)\n",
        "\n"
      ]
    },
    {
      "cell_type": "code",
      "execution_count": null,
      "metadata": {
        "colab": {
          "base_uri": "https://localhost:8080/"
        },
        "id": "PYCAoqticVOK",
        "outputId": "fc100424-1146-48c3-8eaf-72e2dc8f5217"
      },
      "outputs": [
        {
          "name": "stdout",
          "output_type": "stream",
          "text": [
            "5\n",
            "* * * * * \n",
            "*       * \n",
            "*       * \n",
            "*       * \n",
            "* * * * * \n"
          ]
        }
      ],
      "source": [
        "#hollow sphere\n",
        "x=int(input())\n",
        "for i in range(x):\n",
        "  for j in range(x):\n",
        "    if i==0 or i==x-1 or j==0 or j==x-1:\n",
        "        print(\"*\",end=\" \")\n",
        "    else:\n",
        "      print(\" \",end=\" \")\n",
        "  print()\n"
      ]
    },
    {
      "cell_type": "code",
      "execution_count": null,
      "metadata": {
        "colab": {
          "base_uri": "https://localhost:8080/"
        },
        "id": "M9QMkAReMoU3",
        "outputId": "fe40d1b8-d2b2-4969-bc52-50622da3d994"
      },
      "outputs": [
        {
          "name": "stdout",
          "output_type": "stream",
          "text": [
            "5\n",
            "*\n",
            "**\n",
            "***\n",
            "****\n",
            "*****\n"
          ]
        }
      ],
      "source": [
        "#triangle\n",
        "x=int(input())\n",
        "for i in range(1,x+1):\n",
        "  print(\"*\"*i)\n",
        "\n"
      ]
    },
    {
      "cell_type": "code",
      "execution_count": null,
      "metadata": {
        "colab": {
          "base_uri": "https://localhost:8080/"
        },
        "id": "f8tDFJktOavm",
        "outputId": "a9dabde6-5b7e-4563-fb94-e7fb3f7c6b71"
      },
      "outputs": [
        {
          "name": "stdout",
          "output_type": "stream",
          "text": [
            "5\n",
            "     *\n",
            "    **\n",
            "   ***\n",
            "  ****\n",
            " *****\n"
          ]
        }
      ],
      "source": [
        "x=int(input())\n",
        "for i in range(1,x+1):\n",
        "  print(\" \"*(x-i),\"*\"*i)"
      ]
    },
    {
      "cell_type": "code",
      "execution_count": null,
      "metadata": {
        "colab": {
          "base_uri": "https://localhost:8080/"
        },
        "id": "cieViuDGPl9o",
        "outputId": "b17411be-e11f-4f00-eb20-99c58cb92e2e"
      },
      "outputs": [
        {
          "name": "stdout",
          "output_type": "stream",
          "text": [
            "5\n",
            "****  \n",
            "***   \n",
            "**    \n",
            "*     \n",
            "      \n"
          ]
        }
      ],
      "source": [
        "x=int(input())\n",
        "for i in range(1,x+1):\n",
        "  print(\"*\"*(x-i),\" \"*i)"
      ]
    },
    {
      "cell_type": "code",
      "execution_count": null,
      "metadata": {
        "colab": {
          "base_uri": "https://localhost:8080/"
        },
        "id": "I827IUCwRLnO",
        "outputId": "10633499-efdd-47ca-8232-5659e0e84e38"
      },
      "outputs": [
        {
          "name": "stdout",
          "output_type": "stream",
          "text": [
            "5\n",
            "*         \n",
            "* *       \n",
            "*   *     \n",
            "*     *   \n",
            "* * * * * \n"
          ]
        }
      ],
      "source": [
        "x=int(input())\n",
        "for i in range(1,x+1):\n",
        "  for j in range(1,x+1):\n",
        "    if j==1 or i==x or i==j:\n",
        "      print(\"*\",end=\" \")\n",
        "    else:\n",
        "      print(\" \",end=\" \")\n",
        "  print()"
      ]
    },
    {
      "cell_type": "code",
      "execution_count": null,
      "metadata": {
        "colab": {
          "base_uri": "https://localhost:8080/"
        },
        "id": "zVWdxLI0Tu_f",
        "outputId": "dd264308-d1fb-4d35-d613-fa34feae9e40"
      },
      "outputs": [
        {
          "name": "stdout",
          "output_type": "stream",
          "text": [
            "kavitha\n",
            "htivak\n"
          ]
        }
      ],
      "source": [
        "#remove the repate char and reverse the str print it\n",
        "s=input()\n",
        "li=[]\n",
        "for i in s:\n",
        "  if i not in li:\n",
        "    li.append(i)\n",
        "print(''.join(li[::-1]))\n",
        "\n",
        "\n"
      ]
    },
    {
      "cell_type": "code",
      "execution_count": null,
      "metadata": {
        "colab": {
          "base_uri": "https://localhost:8080/"
        },
        "id": "jroUZyiKUcWI",
        "outputId": "8fb662ba-9c47-4ae4-edd5-8416d620fd8e"
      },
      "outputs": [
        {
          "name": "stdout",
          "output_type": "stream",
          "text": [
            "Mad@am\n",
            "madam\n"
          ]
        }
      ],
      "source": [
        "#convert uppercase letters into lowercase,remove non-alphabetical letters,string reverse like palindrome\n",
        "x=input()\n",
        "li=[]\n",
        "x=x.lower()\n",
        "for i in x:\n",
        "  if i>='a' and i<='z':\n",
        "    li.append(i)\n",
        "print(''.join(li[::-1]))\n",
        "\n",
        "or i in range(len(x)-k+1):\n",
        "  print(max(x[i:i+k]))\n",
        "\n"
      ]
    },
    {
      "cell_type": "code",
      "execution_count": null,
      "metadata": {
        "colab": {
          "base_uri": "https://localhost:8080/"
        },
        "id": "CDyO1zyHkcXU",
        "outputId": "fa25cdeb-d304-4987-8725-40a193fff36b"
      },
      "outputs": [
        {
          "name": "stdout",
          "output_type": "stream",
          "text": [
            "10\n",
            "80\n",
            "11 22 33 44 55 66 77 "
          ]
        }
      ],
      "source": [
        "#print the palindrom numbers between the lowerlimit and upperlimit\n",
        "a=int(input())\n",
        "b=int(input())\n",
        "for i in range(a,b):\n",
        "  x=str(i)\n",
        "  if x==x[::-1]:\n",
        "    print(i,end=\" \")"
      ]
    },
    {
      "cell_type": "code",
      "execution_count": null,
      "metadata": {
        "id": "duedgPmSu8vG"
      },
      "outputs": [],
      "source": [
        "#given an array and an integer k, find the maximum for each and every contiguous subarray of size k.\n",
        "\n"
      ]
    },
    {
      "cell_type": "markdown",
      "metadata": {
        "id": "U8ovADSg84CR"
      },
      "source": [
        "**NUMPY**"
      ]
    },
    {
      "cell_type": "code",
      "execution_count": null,
      "metadata": {
        "colab": {
          "base_uri": "https://localhost:8080/"
        },
        "id": "LWEV3m7ivs81",
        "outputId": "d5aa6bcb-f658-42ed-b688-3158a000fd87"
      },
      "outputs": [
        {
          "name": "stdout",
          "output_type": "stream",
          "text": [
            "[1 2 3 4 5]\n",
            "(5,)\n",
            "int64\n"
          ]
        }
      ],
      "source": [
        "#single dimenional array in python\n",
        "import numpy as np\n",
        "arr=np.array([1,2,3,4,5])\n",
        "print(arr)\n",
        "print(arr.shape)\n",
        "print(arr.dtype)"
      ]
    },
    {
      "cell_type": "code",
      "execution_count": null,
      "metadata": {
        "colab": {
          "base_uri": "https://localhost:8080/"
        },
        "id": "KEIoYhir9cfp",
        "outputId": "4e1725ac-c99c-4b50-b115-7f38dd068be7"
      },
      "outputs": [
        {
          "name": "stdout",
          "output_type": "stream",
          "text": [
            "[[1 2 3]\n",
            " [4 5 6]]\n",
            "(2, 3)\n",
            "int64\n"
          ]
        }
      ],
      "source": [
        "#two dimentional array\n",
        "import numpy as np\n",
        "arr=np.array([[1,2,3],[4,5,6]])\n",
        "print(arr)\n",
        "print(arr.shape)\n",
        "print(arr.dtype)\n"
      ]
    },
    {
      "cell_type": "code",
      "execution_count": null,
      "metadata": {
        "colab": {
          "base_uri": "https://localhost:8080/"
        },
        "id": "rY4X18B-93GD",
        "outputId": "0bb3605e-1506-47d6-e530-537236d1712b"
      },
      "outputs": [
        {
          "name": "stdout",
          "output_type": "stream",
          "text": [
            "[[[ 1  2  3]\n",
            "  [ 4  5  6]]\n",
            "\n",
            " [[ 7  8  9]\n",
            "  [10 11 12]]]\n",
            "(2, 2, 3)\n",
            "int64\n"
          ]
        }
      ],
      "source": [
        "#multi dimenional array\n",
        "import numpy as np\n",
        "arr=np.array([[[1,2,3],[4,5,6]],[[7,8,9],[10,11,12]]])\n",
        "print(arr)\n",
        "print(arr.shape)\n",
        "print(arr.dtype)"
      ]
    },
    {
      "cell_type": "code",
      "execution_count": null,
      "metadata": {
        "colab": {
          "base_uri": "https://localhost:8080/"
        },
        "id": "qOjmBpuX-Lgc",
        "outputId": "665f0986-aaab-49e1-c014-1e674e25e9d4"
      },
      "outputs": [
        {
          "name": "stdout",
          "output_type": "stream",
          "text": [
            "[[[1 2 3]\n",
            "  [3 4 5]\n",
            "  [4 6 9]]]\n",
            "<class 'numpy.ndarray'>\n",
            "(1, 3, 3)\n",
            "int64\n"
          ]
        }
      ],
      "source": [
        "#three  dimenional array\n",
        "import numpy as np\n",
        "arr=np.array([[[1,2,3],[3,4,5],[4,6,9]]])\n",
        "print(arr)\n",
        "print(type(arr))\n",
        "print(arr.shape)\n",
        "print(arr.dtype)\n",
        "\n"
      ]
    },
    {
      "cell_type": "code",
      "execution_count": null,
      "metadata": {
        "colab": {
          "base_uri": "https://localhost:8080/"
        },
        "id": "dHnU3Waj_Cz_",
        "outputId": "f181ac46-23db-411d-f049-01aef768be93"
      },
      "outputs": [
        {
          "name": "stdout",
          "output_type": "stream",
          "text": [
            "[1 2 3 4]\n",
            "<class 'numpy.ndarray'>\n",
            "int64\n",
            "(4,)\n",
            "-----------------------------------\n",
            "[[1 2 3]\n",
            " [4 5 6]]\n",
            "<class 'numpy.ndarray'>\n",
            "int64\n",
            "(2, 3)\n",
            "----------------------------------\n",
            "[1.2 2.3 3.4 4.5]\n",
            "<class 'numpy.ndarray'>\n",
            "float64\n",
            "(4,)\n",
            "----------------------------------\n",
            "[[1.2 2.3 3.4 4.4]\n",
            " [5.6 4.6 2.3 7.8]]\n",
            "<class 'numpy.ndarray'>\n",
            "float64\n",
            "(2, 4)\n"
          ]
        }
      ],
      "source": [
        "#create the 1D,2D of array and find shape ,type of an array for integer,float\n",
        "#1D array\n",
        "import numpy as np\n",
        "arr=np.array([1,2,3,4])\n",
        "print(arr)\n",
        "print(type(arr))\n",
        "print(arr.dtype)\n",
        "print(arr.shape)\n",
        "print(\"-----------------------------------\")\n",
        "\n",
        "#2D array\n",
        "arr1=np.array([[1,2,3],[4,5,6]])\n",
        "print(arr1)\n",
        "print(type(arr1))\n",
        "print(arr1.dtype)\n",
        "print(arr1.shape)\n",
        "print(\"----------------------------------\")\n",
        "\n",
        "#1D array for float type\n",
        "arr2=np.array([1.2,2.3,3.4,4.5])\n",
        "print(arr2)\n",
        "print(type(arr2))\n",
        "print(arr2.dtype)\n",
        "print(arr2.shape)\n",
        "print(\"----------------------------------\")\n",
        "\n",
        "#2D array for float type\n",
        "arr3=np.array([[1.2,2.3,3.4,4.4],[5.6,4.6,2.3,7.8]])\n",
        "print(arr3)\n",
        "print(type(arr3))\n",
        "print(arr3.dtype)\n",
        "print(arr3.shape)\n"
      ]
    },
    {
      "cell_type": "code",
      "execution_count": null,
      "metadata": {
        "colab": {
          "base_uri": "https://localhost:8080/"
        },
        "id": "QSJHH-IwAWu-",
        "outputId": "918ff5fc-3218-497f-9fba-3f7762ea5638"
      },
      "outputs": [
        {
          "name": "stdout",
          "output_type": "stream",
          "text": [
            "[[1 2 3]\n",
            " [4 5 6]]\n"
          ]
        }
      ],
      "source": [
        "#numpy reshape\n",
        "import numpy as np\n",
        "arr=np.array([1,2,3,4,5,6])\n",
        "a=arr.reshape(2,3)\n",
        "print(a)"
      ]
    },
    {
      "cell_type": "code",
      "execution_count": null,
      "metadata": {
        "id": "qCjn7FJuR_4r"
      },
      "outputs": [],
      "source": [
        "#numpy indexing\n"
      ]
    },
    {
      "cell_type": "markdown",
      "source": [
        "**ACCENTURE CODE**"
      ],
      "metadata": {
        "id": "KAAw4yQIKrYB"
      }
    },
    {
      "cell_type": "code",
      "source": [
        "#take two input strings str1 and str2 ,if str1 is rearrange then it should be equal to str2\n",
        "str1=input()\n",
        "str2=input()\n",
        "if sorted(str1)==sorted(str2):\n",
        "  print(\"true\")\n",
        "else:\n",
        "  print(\"false\")"
      ],
      "metadata": {
        "id": "Sn6lV8FmKyF7",
        "colab": {
          "base_uri": "https://localhost:8080/"
        },
        "outputId": "f3ad96d1-1cc5-4407-fa0b-b19a086e9fa2"
      },
      "execution_count": null,
      "outputs": [
        {
          "output_type": "stream",
          "name": "stdout",
          "text": [
            "listen\n",
            "silent\n",
            "true\n"
          ]
        }
      ]
    },
    {
      "cell_type": "code",
      "source": [
        "#take a input string and find out the length of each word and print the max length of word\n",
        "s=input()\n",
        "lit=s.split()\n",
        "long=\"\"\n",
        "for i in lit:\n",
        "  cur=i\n",
        "  if len(cur)>len(long):\n",
        "    long=cur\n",
        "print(long)\n",
        "\n",
        "\n"
      ],
      "metadata": {
        "id": "b_9ono8VQsJA",
        "colab": {
          "base_uri": "https://localhost:8080/"
        },
        "outputId": "2a37820d-0e4e-496a-8f3b-3c1cf054d660"
      },
      "execution_count": null,
      "outputs": [
        {
          "output_type": "stream",
          "name": "stdout",
          "text": [
            "\n",
            "\n"
          ]
        }
      ]
    },
    {
      "cell_type": "code",
      "source": [
        "#convert 15 into binary and add the digits output:4\n",
        "x=int(input())\n",
        "binary=bin(x).replace(\"0b\",\"\")\n",
        "sum=0\n",
        "for i in binary:\n",
        "  if i=='1' or i=='0':\n",
        "    sum=sum+1\n",
        "print(sum)\n",
        "print(binary)\n",
        "\n"
      ],
      "metadata": {
        "id": "-TyP9Qjsvvy_",
        "colab": {
          "base_uri": "https://localhost:8080/"
        },
        "outputId": "2a457a04-aac5-4393-e220-2109ee6d515b"
      },
      "execution_count": null,
      "outputs": [
        {
          "output_type": "stream",
          "name": "stdout",
          "text": [
            "15\n",
            "4\n",
            "1111\n"
          ]
        }
      ]
    },
    {
      "cell_type": "code",
      "source": [
        "#print the numbers  in triangle pattern\n",
        "\n",
        "n = int(input())\n",
        "num = 1\n",
        "for i in range(n):\n",
        "  for j in range(i + 1):\n",
        "    print(num, end=\" \")\n",
        "    num += 1\n",
        "  print()\n",
        "\n",
        "\n"
      ],
      "metadata": {
        "colab": {
          "base_uri": "https://localhost:8080/"
        },
        "id": "u1zfAsffy5nN",
        "outputId": "6253c3e5-519b-42b5-c72f-fa09b9d15c5a"
      },
      "execution_count": null,
      "outputs": [
        {
          "output_type": "stream",
          "name": "stdout",
          "text": [
            "4\n",
            "1 \n",
            "2 3 \n",
            "4 5 6 \n",
            "7 8 9 10 \n"
          ]
        }
      ]
    },
    {
      "cell_type": "markdown",
      "source": [
        "**Searching techniques**"
      ],
      "metadata": {
        "id": "cERlvWkpRVKS"
      }
    },
    {
      "cell_type": "code",
      "source": [
        "#search the element in the arr\n",
        "'''\n",
        "a=3,4,1,88,63,9,7\n",
        "s=63\n",
        "'''\n",
        "arr=map(int,input().split(\",\"))\n",
        "s=int(input())\n",
        "for i in arr:\n",
        "  if i==s:\n",
        "    print(\"element found\")\n",
        "    break\n",
        "else:\n",
        "  print(\"elment not found\")"
      ],
      "metadata": {
        "colab": {
          "base_uri": "https://localhost:8080/"
        },
        "id": "vNrhO_T28r9J",
        "outputId": "569ce918-375a-439d-8447-88fc45706df3"
      },
      "execution_count": null,
      "outputs": [
        {
          "output_type": "stream",
          "name": "stdout",
          "text": [
            "3,4,1,88,63,9,7\n",
            "63\n",
            "element found\n"
          ]
        }
      ]
    },
    {
      "cell_type": "code",
      "source": [
        "#linear search\n",
        "arr=map(int,input().split(\",\"))\n",
        "s=int(input())\n",
        "index=0\n",
        "for i in arr:\n",
        "  if i==s:\n",
        "    print(\"element found at index\",index)\n",
        "    break\n",
        "  index+=1\n",
        "else:\n",
        "  print(\"elment not found\")"
      ],
      "metadata": {
        "colab": {
          "base_uri": "https://localhost:8080/"
        },
        "id": "J1NhYCzSUxA_",
        "outputId": "31fa07ee-09d0-4d33-cb3b-083ec00c4860"
      },
      "execution_count": null,
      "outputs": [
        {
          "output_type": "stream",
          "name": "stdout",
          "text": [
            "3,4,1,88,63,9,7\n",
            "63\n",
            "element found at index 4\n"
          ]
        }
      ]
    },
    {
      "cell_type": "code",
      "source": [
        "#binary  search 2,3,6,8,12,15,20  find 12\n",
        "arr =list(map(int, input().split(\",\")))\n",
        "s =int(input())\n",
        "low = 0\n",
        "high = len(arr)-1\n",
        "index = -1\n",
        "\n",
        "while low <= high:\n",
        "  mid = (low + high) // 2\n",
        "  if arr[mid] == s:\n",
        "    print(\"element found at index\", mid)\n",
        "    break\n",
        "  elif arr[mid] < s:\n",
        "    low = mid + 1\n",
        "  else:\n",
        "    high = mid - 1\n",
        "    mid=(low+high)//2\n",
        "else:\n",
        "  print(\"element not found\")"
      ],
      "metadata": {
        "id": "oqe3iVEVVPOl"
      },
      "execution_count": null,
      "outputs": []
    },
    {
      "cell_type": "code",
      "source": [],
      "metadata": {
        "id": "BbCU25LOb0zc"
      },
      "execution_count": null,
      "outputs": []
    }
  ],
  "metadata": {
    "colab": {
      "provenance": [],
      "include_colab_link": true
    },
    "kernelspec": {
      "display_name": "Python 3",
      "name": "python3"
    },
    "language_info": {
      "name": "python"
    }
  },
  "nbformat": 4,
  "nbformat_minor": 0
}