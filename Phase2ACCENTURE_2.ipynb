{
  "nbformat": 4,
  "nbformat_minor": 0,
  "metadata": {
    "colab": {
      "provenance": [],
      "authorship_tag": "ABX9TyMjPRCC8JRBbAHQrATzAP6t",
      "include_colab_link": true
    },
    "kernelspec": {
      "name": "python3",
      "display_name": "Python 3"
    },
    "language_info": {
      "name": "python"
    }
  },
  "cells": [
    {
      "cell_type": "markdown",
      "metadata": {
        "id": "view-in-github",
        "colab_type": "text"
      },
      "source": [
        "<a href=\"https://colab.research.google.com/github/kavithabantupalli/Python_basic/blob/main/Phase2ACCENTURE_2.ipynb\" target=\"_parent\"><img src=\"https://colab.research.google.com/assets/colab-badge.svg\" alt=\"Open In Colab\"/></a>"
      ]
    },
    {
      "cell_type": "code",
      "execution_count": null,
      "metadata": {
        "colab": {
          "base_uri": "https://localhost:8080/"
        },
        "id": "En91wmQwRAVn",
        "outputId": "9f1c6ca0-fb32-4870-e065-64cc893b2078"
      },
      "outputs": [
        {
          "output_type": "stream",
          "name": "stdout",
          "text": [
            "kavitha\n",
            "avith\n",
            "5\n"
          ]
        }
      ],
      "source": [
        "#print the count of string  with out first and last\n",
        "s=input()\n",
        "count=0\n",
        "li=\"\"\n",
        "for i in s:\n",
        "    if count>=1 and count<len(s)-1:\n",
        "        li=li+i\n",
        "    count=count+1\n",
        "print(li)\n",
        "print(len(li))"
      ]
    },
    {
      "cell_type": "code",
      "source": [
        "#oops concept single inheritance\n",
        "class Account:\n",
        "    def __init__(self, account_number, balance=0, interest_rate=0.02):\n",
        "        self.account_number = account_number\n",
        "        self.balance = balance\n",
        "        self.interest_rate = interest_rate\n",
        "\n",
        "    def deposit(self, amount):\n",
        "        if amount > 0:\n",
        "            self.balance += amount\n",
        "            print(f\"Deposited: ${amount:.2f}, New balance: ${self.balance:.2f}\")\n",
        "        else:\n",
        "            print(\"Invalid deposit amount.\")\n",
        "\n",
        "    def withdraw(self, amount):\n",
        "        if 0 < amount <= self.balance:\n",
        "            self.balance -= amount\n",
        "            print(f\"Withdrawn: ${amount:.2f}, New balance: ${self.balance:.2f}\")\n",
        "        else:\n",
        "            print(\"Insufficient funds or invalid withdrawal amount.\")\n",
        "\n",
        "    def get_balance(self):\n",
        "        return self.balance\n",
        "\n",
        "    def get_interest_rate(self):\n",
        "        return self.interest_rate\n",
        "\n",
        "class SavingsAccount(Account):\n",
        "    def __init__(self, account_number, balance=0, interest_rate=0.03):\n",
        "        super().__init__(account_number, balance, interest_rate)\n",
        "\n",
        "    def calculate_interest_earned(self):\n",
        "        interest_earned = self.balance * self.interest_rate\n",
        "        return interest_earned\n",
        "\n",
        "savings_account = SavingsAccount(\"1234567890\", 1000)\n",
        "savings_account.deposit(500)\n",
        "savings_account.withdraw(200)\n",
        "print(f\"Balance: ${savings_account.get_balance():.2f}\")\n",
        "interest_earned = savings_account.calculate_interest_earned()\n",
        "print(f\"Interest Earned: ${interest_earned:.2f}\")"
      ],
      "metadata": {
        "colab": {
          "base_uri": "https://localhost:8080/"
        },
        "id": "clyxUPhOXI-d",
        "outputId": "7cf3091e-1e4c-4a8d-9906-a49b578d7744"
      },
      "execution_count": null,
      "outputs": [
        {
          "output_type": "stream",
          "name": "stdout",
          "text": [
            "Deposited: $500.00, New balance: $1500.00\n",
            "Withdrawn: $200.00, New balance: $1300.00\n",
            "Balance: $1300.00\n",
            "Interest Earned: $39.00\n"
          ]
        }
      ]
    },
    {
      "cell_type": "code",
      "source": [
        "#print the frequency value in the given array\n",
        "arr=input().split(\",\")\n",
        "li=\"\"\n",
        "count=0\n",
        "for i in arr:\n",
        "  if i not in li:\n",
        "    li=li+i\n",
        "  else:\n",
        "    count=count+1\n",
        "print(\"frequent_value\",i)\n"
      ],
      "metadata": {
        "colab": {
          "base_uri": "https://localhost:8080/"
        },
        "id": "H127MzYuaSNa",
        "outputId": "b0df7d37-0681-40b8-c866-139656eef3c6"
      },
      "execution_count": null,
      "outputs": [
        {
          "output_type": "stream",
          "name": "stdout",
          "text": [
            "2,3,5,1,7,4,3,4\n",
            "frequent_value 4\n"
          ]
        }
      ]
    },
    {
      "cell_type": "code",
      "source": [
        "#print peak element from the given value and index of it\n",
        "arr=input().split(\",\")\n",
        "ma=max(arr)\n",
        "index=arr.index(ma)\n",
        "print(\"MAX:\",ma)\n",
        "print(\"INDEX:\",index)"
      ],
      "metadata": {
        "colab": {
          "base_uri": "https://localhost:8080/"
        },
        "id": "U8-dMSb65mO8",
        "outputId": "9e0ee79f-ac57-496b-ee78-c3d9e296b27b"
      },
      "execution_count": null,
      "outputs": [
        {
          "output_type": "stream",
          "name": "stdout",
          "text": [
            "3,5,7,8,9,3,4,5\n",
            "MAX: 9\n",
            "INDEX: 4\n"
          ]
        }
      ]
    },
    {
      "cell_type": "code",
      "source": [
        "#take two  list ,l1=[1,2,3,0,0,0], l2=[2,3,4] and sort the list and merge it with empty \"0\" in the l1\n",
        "\n",
        "l1=input().split(\",\")\n",
        "l2=input().split(\",\")\n",
        "l3=l1+l2\n",
        "l3.sort()\n",
        "print(\" \".join(l3))\n",
        "\n",
        "\n"
      ],
      "metadata": {
        "colab": {
          "base_uri": "https://localhost:8080/"
        },
        "id": "jV2FJTp-_XP2",
        "outputId": "efc1697f-3e05-4d6e-ccaa-455a7c020645"
      },
      "execution_count": null,
      "outputs": [
        {
          "output_type": "stream",
          "name": "stdout",
          "text": [
            "3,2,4,0,0,0\n",
            "3,5,7\n",
            "0 0 0 2 3 3 4 5 7\n"
          ]
        }
      ]
    },
    {
      "cell_type": "code",
      "source": [
        "l1=input().split(\",\")\n",
        "l2=input().split(\",\")\n",
        "n=3\n",
        "for i in range(n,len(l1)):\n",
        "  l1[i]=l2[i-len(l2)]\n",
        "print(\" \".join(sorted(l1)))\n",
        "\n",
        "\n"
      ],
      "metadata": {
        "colab": {
          "base_uri": "https://localhost:8080/"
        },
        "id": "Yf9aHKKoDeiN",
        "outputId": "f80daf3f-464e-4e3f-d5ab-7d8556212243"
      },
      "execution_count": null,
      "outputs": [
        {
          "output_type": "stream",
          "name": "stdout",
          "text": [
            "2,3,4,0,0,0\n",
            "4,5,5\n",
            "2 3 4 4 5 5\n"
          ]
        }
      ]
    },
    {
      "cell_type": "code",
      "source": [
        "#add of neibhours we need to get target and what are the neibhour\n",
        "arr=list(map(int,input().split(\",\")))\n",
        "target=int(input())\n",
        "for i in range(len(arr)-1):\n",
        "  if arr[i]+arr[i+1]==target:\n",
        "    print(arr[i],arr[i+1])\n",
        "\n"
      ],
      "metadata": {
        "colab": {
          "base_uri": "https://localhost:8080/"
        },
        "id": "WcFoIPYOESON",
        "outputId": "5c6c9dd1-a464-43ed-c2dc-f6c497175aed"
      },
      "execution_count": null,
      "outputs": [
        {
          "output_type": "stream",
          "name": "stdout",
          "text": [
            "1,2,3,4,5\n",
            "7\n",
            "3 4\n"
          ]
        }
      ]
    },
    {
      "cell_type": "code",
      "source": [
        "#take a string and consider the words of spaces and print the last word length\n",
        "s=input().split()\n",
        "for i in s:\n",
        "    i=i[::-1]\n",
        "    print(len(i))"
      ],
      "metadata": {
        "colab": {
          "base_uri": "https://localhost:8080/"
        },
        "id": "LGPyX7mCa5qv",
        "outputId": "880638c0-d92d-46c6-845a-9e9b82c55ee9"
      },
      "execution_count": null,
      "outputs": [
        {
          "output_type": "stream",
          "name": "stdout",
          "text": [
            "hello kavi\n",
            "5\n",
            "4\n"
          ]
        }
      ]
    },
    {
      "cell_type": "code",
      "source": [
        "#print the last word length\n",
        "s = input().split()\n",
        "for i in range(len(s)):\n",
        "    s[i] = s[i][::-1]\n",
        "print(len(s[-1]))"
      ],
      "metadata": {
        "colab": {
          "base_uri": "https://localhost:8080/"
        },
        "id": "CEu1bDzpimN_",
        "outputId": "78db9ba7-2d27-4f7c-e78e-295b3152b441"
      },
      "execution_count": null,
      "outputs": [
        {
          "output_type": "stream",
          "name": "stdout",
          "text": [
            "hlo word\n",
            "4\n"
          ]
        }
      ]
    },
    {
      "cell_type": "code",
      "source": [
        "#count print the sequence of character in the\n",
        "#string abcd dbdeffcdAABBTR count of each\n",
        "s=input()\n",
        "li=\"\"\n",
        "count=0\n",
        "for i in s:\n",
        "  if i.lower() not in li:\n",
        "    li=li+i\n",
        "print(li)"
      ],
      "metadata": {
        "colab": {
          "base_uri": "https://localhost:8080/"
        },
        "id": "aGdygOF6j-z_",
        "outputId": "2da28e92-2e25-4145-ac20-b84eb2259559"
      },
      "execution_count": null,
      "outputs": [
        {
          "output_type": "stream",
          "name": "stdout",
          "text": [
            "abcd dbdeffcdAABBTR\n",
            "abcd efTR\n"
          ]
        }
      ]
    },
    {
      "cell_type": "code",
      "source": [],
      "metadata": {
        "id": "ic5HPq86pTR6"
      },
      "execution_count": null,
      "outputs": []
    },
    {
      "cell_type": "markdown",
      "source": [
        "**Exception handling**"
      ],
      "metadata": {
        "id": "QamGnabYmde1"
      }
    },
    {
      "cell_type": "code",
      "source": [
        "#we need to create a class ATM, balance variable and withdraw the amount and print the balance\n",
        "class ATM:\n",
        "  def __init__(self, balance):\n",
        "    self.balance = balance\n",
        "\n",
        "  def withdraw(self, amount):\n",
        "    if amount > self.balance:\n",
        "      raise Exception(\"Insufficient balance\")\n",
        "    self.balance -= amount\n",
        "\n",
        "initial_balance = int(input(\"Enter initial balance: \"))\n",
        "atm = ATM(initial_balance)\n",
        "\n",
        "try:\n",
        "  amount = int(input(\"Enter amount to withdraw: \"))\n",
        "  atm.withdraw(amount)\n",
        "  print(\"Balance after withdrawal: \", atm.balance)\n",
        "except Exception as e:\n",
        "  print(e)"
      ],
      "metadata": {
        "colab": {
          "base_uri": "https://localhost:8080/"
        },
        "id": "9tRmkw2cmh1Z",
        "outputId": "4001ebb0-48aa-4da3-ceb9-e4fd37b22857"
      },
      "execution_count": null,
      "outputs": [
        {
          "output_type": "stream",
          "name": "stdout",
          "text": [
            "Enter initial balance: 100\n",
            "Enter amount to withdraw: 300\n",
            "Insufficient balance\n"
          ]
        }
      ]
    },
    {
      "cell_type": "code",
      "source": [
        "# check the user is eligible for vote\n",
        "n=int(input(\"list of users: \"))\n",
        "for age in range(n):\n",
        "  try:\n",
        "   age= int(input(\"Enter a age of user: \"))\n",
        "   if age>=18:\n",
        "     print(\"Eligible to vote\")\n",
        "   else:\n",
        "     raise Exception(\"Not eligible to vote\")\n",
        "  except Exception as e:\n",
        "     print(\"The age must be greater than 18 to vote\")\n"
      ],
      "metadata": {
        "colab": {
          "base_uri": "https://localhost:8080/"
        },
        "id": "UQi9MI6H_7UX",
        "outputId": "1f5af300-ac7e-4052-d422-1653038d4644"
      },
      "execution_count": null,
      "outputs": [
        {
          "output_type": "stream",
          "name": "stdout",
          "text": [
            "list of users: 2\n",
            "Enter a age of user: 18\n",
            "Eligible to vote\n",
            "Enter a age of user: 14\n",
            "The age must be greater than 18 to vote\n"
          ]
        }
      ]
    },
    {
      "cell_type": "code",
      "source": [
        "#check the user is eligible for vote\n",
        "try:\n",
        "  age = int(input())\n",
        "  if age>=18:\n",
        "    print(\"eligible to vote\")\n",
        "  else:\n",
        "    raise Exception(\"not eligible to vote\")\n",
        "except Exception as e:\n",
        "    print(\"the age must be greater than 18 to vote\")\n"
      ],
      "metadata": {
        "colab": {
          "base_uri": "https://localhost:8080/"
        },
        "id": "7gkfDcXHBVgp",
        "outputId": "fc9816e8-4047-4c1b-c816-ab204c996ab0"
      },
      "execution_count": null,
      "outputs": [
        {
          "output_type": "stream",
          "name": "stdout",
          "text": [
            "17\n",
            "the age must be greater than 18 to vote\n"
          ]
        }
      ]
    },
    {
      "cell_type": "code",
      "source": [
        "#create the matrix find out the target in the matrix  if u find print true or false\n",
        "matrix=[[1,4,7,11,15],[2,5,6,12,19],[3,6,9,16,22],[10,13,14,17,24],[18,21,23,26,30]]\n",
        "print(matrix)\n",
        "target=int(input())\n",
        "for i in matrix:\n",
        "  for j in i:\n",
        "    if j==target:\n",
        "      print(\"true\")\n",
        "    else:\n",
        "     print(\"false\")"
      ],
      "metadata": {
        "colab": {
          "base_uri": "https://localhost:8080/"
        },
        "id": "V7K5XCL0HfP7",
        "outputId": "76c3e515-5b23-4a9b-f063-b2d42f75bbb1"
      },
      "execution_count": null,
      "outputs": [
        {
          "output_type": "stream",
          "name": "stdout",
          "text": [
            "[[1, 4, 7, 11, 15], [2, 5, 6, 12, 19], [3, 6, 9, 16, 22], [10, 13, 14, 17, 24], [18, 21, 23, 26, 30]]\n",
            "6\n",
            "false\n",
            "false\n",
            "false\n",
            "false\n",
            "false\n",
            "false\n",
            "false\n",
            "true\n",
            "false\n",
            "false\n",
            "false\n",
            "true\n",
            "false\n",
            "false\n",
            "false\n",
            "false\n",
            "false\n",
            "false\n",
            "false\n",
            "false\n",
            "false\n",
            "false\n",
            "false\n",
            "false\n",
            "false\n"
          ]
        }
      ]
    },
    {
      "cell_type": "code",
      "source": [
        "#given an integer n ,return true if it is a power of two\n",
        "n=int(input())\n",
        "print(2**n)"
      ],
      "metadata": {
        "colab": {
          "base_uri": "https://localhost:8080/"
        },
        "id": "LzSuR0QFLvjQ",
        "outputId": "9bd8ba09-d957-48cb-fb68-ecd8822b1df1"
      },
      "execution_count": null,
      "outputs": [
        {
          "output_type": "stream",
          "name": "stdout",
          "text": [
            "0\n",
            "1\n"
          ]
        }
      ]
    },
    {
      "cell_type": "code",
      "source": [
        "#take an array and k ,print the k largest position ,solve it without sort [3,2,1,5,6,4]  k=2\n",
        "arr=input().split(\",\")\n",
        "k=int(input())\n",
        "arr.sort()\n",
        "print(arr)\n",
        "print(arr[-k])\n"
      ],
      "metadata": {
        "colab": {
          "base_uri": "https://localhost:8080/"
        },
        "id": "NJ_D6H_aPCcS",
        "outputId": "c658ba8a-ce91-4199-82ec-3dc82827a7c9"
      },
      "execution_count": null,
      "outputs": [
        {
          "output_type": "stream",
          "name": "stdout",
          "text": [
            "3,2,1,5,6,4\n",
            "2\n",
            "['1', '2', '3', '4', '5', '6']\n",
            "5\n"
          ]
        }
      ]
    },
    {
      "cell_type": "code",
      "source": [],
      "metadata": {
        "id": "2EWLh6IwRoAb"
      },
      "execution_count": null,
      "outputs": []
    }
  ]
}