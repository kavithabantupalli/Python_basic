{
  "cells": [
    {
      "cell_type": "markdown",
      "metadata": {
        "id": "view-in-github",
        "colab_type": "text"
      },
      "source": [
        "<a href=\"https://colab.research.google.com/github/kavithabantupalli/Python_basic/blob/main/Phase2ACCENTURE_3.ipynb\" target=\"_parent\"><img src=\"https://colab.research.google.com/assets/colab-badge.svg\" alt=\"Open In Colab\"/></a>"
      ]
    },
    {
      "cell_type": "markdown",
      "metadata": {
        "id": "8N3w3QyN4r34"
      },
      "source": [
        "**function**"
      ]
    },
    {
      "cell_type": "code",
      "execution_count": null,
      "metadata": {
        "colab": {
          "base_uri": "https://localhost:8080/"
        },
        "id": "icOuKXbS4RMv",
        "outputId": "4a84d038-3177-47bd-e771-5d1f8a270400"
      },
      "outputs": [
        {
          "name": "stdout",
          "output_type": "stream",
          "text": [
            "[-45, -11, 20, 30, 50]\n"
          ]
        }
      ],
      "source": [
        "#create a array N with positive and negative numbers and sort the array by using the def input: 20 -11 30 -45 50  output:-11 -45 20 30 50\n",
        "def fun(arr):\n",
        "  arr.sort()\n",
        "  return arr\n",
        "\n",
        "arr=[20,-11,30,-45,50]\n",
        "print(fun(arr))\n"
      ]
    },
    {
      "cell_type": "code",
      "execution_count": null,
      "metadata": {
        "colab": {
          "base_uri": "https://localhost:8080/"
        },
        "id": "HYRK3q8o5qqa",
        "outputId": "b5e69763-bd24-4ee1-b595-3362bd26cfca"
      },
      "outputs": [
        {
          "name": "stdout",
          "output_type": "stream",
          "text": [
            "20 -11 30 -45 50\n",
            "[-11, -45, 20, 30, 50]\n"
          ]
        }
      ],
      "source": [
        "#create a array N with positive and negative numbers and sort the array by using the def input: 20 -11 30 -45 50  output:-11 -45 20 30 50\n",
        "def fun(arr):\n",
        "  pos=[]\n",
        "  neg=[]\n",
        "  for i in arr:\n",
        "    if i>0:\n",
        "      pos.append(i)\n",
        "    else:\n",
        "      neg.append(i)\n",
        "  return neg+pos\n",
        "arr=list(map(int,input().split()))\n",
        "print(fun(arr))\n",
        "#arr=[20,-11,30,-45,50]"
      ]
    },
    {
      "cell_type": "code",
      "execution_count": null,
      "metadata": {
        "colab": {
          "base_uri": "https://localhost:8080/"
        },
        "id": "oBSnfUOB7R7g",
        "outputId": "4be7303e-1174-45eb-98c7-f2adf8f07aa8"
      },
      "outputs": [
        {
          "name": "stdout",
          "output_type": "stream",
          "text": [
            "20 10 30 75 44 22\n",
            "(75, 10)\n"
          ]
        }
      ],
      "source": [
        "#create a arr and by using the for loop find out the max and min  def\n",
        "def fun(arr):\n",
        "  x=arr[0]\n",
        "  y=arr[0]\n",
        "  for i in arr:\n",
        "    if i>x:\n",
        "      x=i\n",
        "    elif i<y:\n",
        "      y=i\n",
        "  return x,y\n",
        "arr=list(map(int,input().split()))\n",
        "print(fun(arr))"
      ]
    },
    {
      "cell_type": "code",
      "execution_count": null,
      "metadata": {
        "colab": {
          "base_uri": "https://localhost:8080/"
        },
        "id": "0HaOreQOKPuM",
        "outputId": "85156d17-5a5a-45ff-e360-2ff2893fb277"
      },
      "outputs": [
        {
          "name": "stdout",
          "output_type": "stream",
          "text": [
            "1 24 67 89\n",
            "34 1 22 66 \n",
            "(7, 1)\n"
          ]
        }
      ],
      "source": [
        "#take a two arr and find out  length union (combine) and intersection (same) using def\n",
        "def fun(arr1,arr2):\n",
        "  x=set(arr1)\n",
        "  y=set(arr2)\n",
        "  return len(list(x.union(y))),len(list(x.intersection(y)))\n",
        "\n",
        "arr1=list(map(int,input().split()))\n",
        "arr2=list(map(int,input().split()))\n",
        "print(fun(arr1,arr2))"
      ]
    },
    {
      "cell_type": "code",
      "execution_count": null,
      "metadata": {
        "colab": {
          "base_uri": "https://localhost:8080/"
        },
        "id": "xcbkjXHXL-uU",
        "outputId": "fb5c891b-dcd8-4da2-e6f1-4057705463cd"
      },
      "outputs": [
        {
          "name": "stdout",
          "output_type": "stream",
          "text": [
            "3 4 54 666\n",
            "34 55 67 4\n",
            "union:  {34, 3, 4, 67, 54, 55, 666} 7\n",
            "intersection:  4\n",
            "None\n"
          ]
        }
      ],
      "source": [
        "#take a two arr and find out union (combine) and intersection (same) using def using for loop\n",
        "def fun(arr1,arr2):\n",
        "  x=set(arr1)\n",
        "  y=set(arr2)\n",
        "  print(\"union: \",x.union(y),len(list(x.union(y))))\n",
        "  for i in x:\n",
        "    if i in y:\n",
        "      print(\"intersection: \",i)\n",
        "\n",
        "arr1=list(map(int,input().split()))\n",
        "arr2=list(map(int,input().split()))\n",
        "print(fun(arr1,arr2))"
      ]
    },
    {
      "cell_type": "code",
      "execution_count": null,
      "metadata": {
        "colab": {
          "base_uri": "https://localhost:8080/"
        },
        "id": "PlUOzWniNfhs",
        "outputId": "c83eff04-1093-486f-8121-7f10069f010b"
      },
      "outputs": [
        {
          "name": "stdout",
          "output_type": "stream",
          "text": [
            "1 2 3 4 5\n",
            "[5, 1, 2, 3, 4]\n"
          ]
        }
      ],
      "source": [
        "#take  a array and change the position of arr in clockwise direction input: 1 2 3 4 5 output: 5 1 2 3 4\n",
        "def fun(arr):\n",
        "  x=arr[-1]\n",
        "  for i in range(len(arr)-1,0,-1):\n",
        "    arr[i]=arr[i-1]\n",
        "  arr[0]=x\n",
        "  return arr\n",
        "\n",
        "arr=list(map(int,input().split()))\n",
        "print(fun(arr))"
      ]
    },
    {
      "cell_type": "code",
      "execution_count": null,
      "metadata": {
        "colab": {
          "base_uri": "https://localhost:8080/"
        },
        "id": "c5sbObkOSNTb",
        "outputId": "58dbec69-4f0e-4bc6-e88a-5a7f6ee02fe1"
      },
      "outputs": [
        {
          "name": "stdout",
          "output_type": "stream",
          "text": [
            "1 2 3 4 5\n",
            "[5, 1, 2, 3, 4] "
          ]
        }
      ],
      "source": [
        "def fun(arr):\n",
        "  x=arr[-1]\n",
        "  return [x]+arr[0:-1]\n",
        "\n",
        "arr=list(map(int,input().split()))\n",
        "print(fun(arr))"
      ]
    },
    {
      "cell_type": "markdown",
      "metadata": {
        "id": "L1R9FLPVGc-L"
      },
      "source": [
        "**patterns**"
      ]
    },
    {
      "cell_type": "code",
      "execution_count": null,
      "metadata": {
        "colab": {
          "base_uri": "https://localhost:8080/"
        },
        "id": "R12TmX4QL_gZ",
        "outputId": "f9e63851-b973-4aa7-9e3a-aeb7fa174b27"
      },
      "outputs": [
        {
          "name": "stdout",
          "output_type": "stream",
          "text": [
            "5\n",
            "*****\n",
            "*****\n",
            "*****\n",
            "*****\n",
            "*****\n",
            "\n"
          ]
        }
      ],
      "source": [
        "#square\n",
        "n=int(input())\n",
        "for i in range(n):\n",
        "  print(\"*\"*n)\n",
        "print()"
      ]
    },
    {
      "cell_type": "code",
      "execution_count": null,
      "metadata": {
        "colab": {
          "base_uri": "https://localhost:8080/"
        },
        "id": "2weh4wFATRH7",
        "outputId": "3f2ee5ac-8211-4c2e-a4ee-07576bc019c4"
      },
      "outputs": [
        {
          "output_type": "stream",
          "name": "stdout",
          "text": [
            "5\n",
            "\n",
            "*\n",
            "**\n",
            "***\n",
            "****\n",
            "*****\n",
            "\n"
          ]
        }
      ],
      "source": [
        "#triangle_1\n",
        "n=int(input())\n",
        "for i in range(n+1):\n",
        "  print(\"*\"*i)\n",
        "print()"
      ]
    },
    {
      "cell_type": "code",
      "execution_count": null,
      "metadata": {
        "colab": {
          "base_uri": "https://localhost:8080/"
        },
        "id": "cfl7jcVMJmcB",
        "outputId": "d56bccd5-a41b-415f-f86d-2771ef21455d"
      },
      "outputs": [
        {
          "name": "stdout",
          "output_type": "stream",
          "text": [
            "5\n",
            "     \n",
            "    *\n",
            "   **\n",
            "  ***\n",
            " ****\n",
            "*****\n",
            "\n"
          ]
        }
      ],
      "source": [
        "#tringle_2\n",
        "n=int(input())\n",
        "for i in range(n+1):\n",
        "  print(\" \"*(n-i)+\"*\"*i)\n",
        "print()"
      ]
    },
    {
      "cell_type": "code",
      "execution_count": null,
      "metadata": {
        "colab": {
          "base_uri": "https://localhost:8080/"
        },
        "id": "KDM8uDq0J7Sw",
        "outputId": "caefa9d0-2b69-4a47-b2a2-dfcf9c318ccb"
      },
      "outputs": [
        {
          "name": "stdout",
          "output_type": "stream",
          "text": [
            "5\n",
            "*****\n",
            "**** \n",
            "***  \n",
            "**   \n",
            "*    \n",
            "     \n",
            "\n"
          ]
        }
      ],
      "source": [
        "#tringle_3\n",
        "n=int(input())\n",
        "for i in range(n+1):\n",
        "  print(\"*\"*(n-i)+\" \"*i)\n",
        "print()"
      ]
    },
    {
      "cell_type": "code",
      "execution_count": null,
      "metadata": {
        "colab": {
          "base_uri": "https://localhost:8080/"
        },
        "id": "kZD0p8MBK9WB",
        "outputId": "271ffba9-5e98-4728-908c-8f44e7553bb7"
      },
      "outputs": [
        {
          "name": "stdout",
          "output_type": "stream",
          "text": [
            "5\n",
            "*****\n",
            " ****\n",
            "  ***\n",
            "   **\n",
            "    *\n",
            "     \n",
            "\n"
          ]
        }
      ],
      "source": [
        "#tringle_4\n",
        "n=int(input())\n",
        "for i in range(n+1):\n",
        "  print(\" \"*i+\"*\"*(n-i))\n",
        "print()"
      ]
    },
    {
      "cell_type": "code",
      "source": [
        "#triangle_5\n",
        "n=int(input())\n",
        "for i in range(n+1):\n",
        "  print(\" \"*(n-i)+\"*\"*i)\n",
        "for j in range(n+1):\n",
        "  print(\" \"*j+\"*\"*(n-j))\n",
        "print()\n"
      ],
      "metadata": {
        "colab": {
          "base_uri": "https://localhost:8080/"
        },
        "id": "pNeu80oYVRks",
        "outputId": "e45e50fe-de6f-4287-9fa2-19970cb2f6f3"
      },
      "execution_count": null,
      "outputs": [
        {
          "output_type": "stream",
          "name": "stdout",
          "text": [
            "6\n",
            "      \n",
            "     *\n",
            "    **\n",
            "   ***\n",
            "  ****\n",
            " *****\n",
            "******\n",
            "******\n",
            " *****\n",
            "  ****\n",
            "   ***\n",
            "    **\n",
            "     *\n",
            "      \n",
            "\n"
          ]
        }
      ]
    },
    {
      "cell_type": "code",
      "source": [
        "#triangle_6\n",
        "n=int(input())\n",
        "for i in range(n+1):\n",
        "  print(\"*\"*i)\n",
        "for j in range(n+1):\n",
        "  print(\"*\"*(n-j)+\" \"*j)\n",
        "print()"
      ],
      "metadata": {
        "colab": {
          "base_uri": "https://localhost:8080/"
        },
        "id": "FWILr0aoV41E",
        "outputId": "794f373c-a1c8-4ad6-cf46-659f1a1475eb"
      },
      "execution_count": null,
      "outputs": [
        {
          "output_type": "stream",
          "name": "stdout",
          "text": [
            "7\n",
            "\n",
            "*\n",
            "**\n",
            "***\n",
            "****\n",
            "*****\n",
            "******\n",
            "*******\n",
            "*******\n",
            "****** \n",
            "*****  \n",
            "****   \n",
            "***    \n",
            "**     \n",
            "*      \n",
            "       \n",
            "\n"
          ]
        }
      ]
    },
    {
      "cell_type": "code",
      "execution_count": null,
      "metadata": {
        "colab": {
          "base_uri": "https://localhost:8080/"
        },
        "id": "mLQJI49aLs6f",
        "outputId": "298b5448-a7b4-40cf-9f3b-07a5ada07c57"
      },
      "outputs": [
        {
          "output_type": "stream",
          "name": "stdout",
          "text": [
            "8\n",
            "        *\n",
            "       ***\n",
            "      *****\n",
            "     *******\n",
            "    *********\n",
            "   ***********\n",
            "  *************\n",
            " ***************\n",
            "\n"
          ]
        }
      ],
      "source": [
        "#triangle_8\n",
        "n=int(input())\n",
        "for i in range(n):\n",
        "  print(\" \"*(n-i)+\"*\"*(2*i+1))\n",
        "print()"
      ]
    },
    {
      "cell_type": "code",
      "execution_count": null,
      "metadata": {
        "colab": {
          "base_uri": "https://localhost:8080/"
        },
        "id": "3uJ-aDaLM2KR",
        "outputId": "f0e20c92-597b-4bbc-97ab-b1671a1ce5d9"
      },
      "outputs": [
        {
          "output_type": "stream",
          "name": "stdout",
          "text": [
            "7\n",
            " *************\n",
            "  ***********\n",
            "   *********\n",
            "    *******\n",
            "     *****\n",
            "      ***\n",
            "       *\n",
            "\n"
          ]
        }
      ],
      "source": [
        "#triangle_9\n",
        "n=int(input())\n",
        "for i in range(n):\n",
        "  print(\" \"*(i+1)+\"*\"*(2*(n-i)-1))\n",
        "print()"
      ]
    },
    {
      "cell_type": "code",
      "execution_count": null,
      "metadata": {
        "id": "tsbXIHzCPP_8",
        "colab": {
          "base_uri": "https://localhost:8080/"
        },
        "outputId": "09830b37-4860-4d0b-ec5c-814552125c14"
      },
      "outputs": [
        {
          "output_type": "stream",
          "name": "stdout",
          "text": [
            "9\n",
            "         *\n",
            "        ***\n",
            "       *****\n",
            "      *******\n",
            "     *********\n",
            "    ***********\n",
            "   *************\n",
            "  ***************\n",
            " *****************\n",
            "*******************\n",
            " *****************\n",
            "  ***************\n",
            "   *************\n",
            "    ***********\n",
            "     *********\n",
            "      *******\n",
            "       *****\n",
            "        ***\n",
            "         *\n",
            "          \n",
            "\n"
          ]
        }
      ],
      "source": [
        "#diamond\n",
        "n=int(input())\n",
        "for i in range(n+1):\n",
        "  print(\" \"*(n-i)+\"*\"*(2*i+1))\n",
        "for j in range(n+1):\n",
        "  print(\" \"*(j+1)+\"*\"*(2*(n-j)-1))\n",
        "print()"
      ]
    },
    {
      "cell_type": "code",
      "source": [
        "#hollow sphere\n",
        "n=int(input())\n",
        "for i in range(n):\n",
        "  for j in range(n):\n",
        "    if i==0 or i==n-1 or j==0 or j==n-1:\n",
        "      print(\"*\",end=\" \")\n",
        "    else:\n",
        "      print(\" \",end=\" \")\n",
        "  print()\n",
        "print()"
      ],
      "metadata": {
        "colab": {
          "base_uri": "https://localhost:8080/"
        },
        "id": "USkZmF5uUm2c",
        "outputId": "18f217b5-a064-4acb-d210-8659a5d52c98"
      },
      "execution_count": null,
      "outputs": [
        {
          "output_type": "stream",
          "name": "stdout",
          "text": [
            "5\n",
            "* * * * * \n",
            "*       * \n",
            "*       * \n",
            "*       * \n",
            "* * * * * \n",
            "\n"
          ]
        }
      ]
    },
    {
      "cell_type": "code",
      "source": [
        "#jumping the steps 1,2,3\n",
        "def fun(step):\n",
        "  if step%6==0 or step%6==1 or step%6==3:\n",
        "    print(\"True\")\n",
        "  else:\n",
        "    print(\"False\")\n",
        "  return \" \"\n",
        "step=int(input())\n",
        "print(fun(step))"
      ],
      "metadata": {
        "colab": {
          "base_uri": "https://localhost:8080/"
        },
        "id": "onRUhs69VLKN",
        "outputId": "8d3d6b58-72a4-4577-857c-bf4a0151aea7"
      },
      "execution_count": null,
      "outputs": [
        {
          "output_type": "stream",
          "name": "stdout",
          "text": [
            "12\n",
            "True\n",
            " \n"
          ]
        }
      ]
    },
    {
      "cell_type": "code",
      "source": [
        "#seating arrangement in train 78 seats check the seat number is window, middle,aisle\n",
        "def fun(seat):\n",
        "  if  seat==1 or seat%5==0 or seat%5==4 or seat==78:\n",
        "    print(\"window\")\n",
        "  elif seat==2 or seat%5==1:\n",
        "    print(\"middle\")\n",
        "  else:\n",
        "    print(\"aisle\")\n",
        "  return \" \"\n",
        "seat=int(input())\n",
        "print(fun(seat))"
      ],
      "metadata": {
        "colab": {
          "base_uri": "https://localhost:8080/"
        },
        "id": "vJqmkS1RXVxb",
        "outputId": "824ea177-97a8-43fb-8dad-07ec081d447f"
      },
      "execution_count": null,
      "outputs": [
        {
          "output_type": "stream",
          "name": "stdout",
          "text": [
            "75\n",
            "window\n",
            " \n"
          ]
        }
      ]
    },
    {
      "cell_type": "code",
      "source": [
        "#reverse of number\n",
        "n=int(input())\n",
        "rev=0\n",
        "while n>0:\n",
        "  rem=n%10\n",
        "  rev=rev*10+rem\n",
        "  n=n//10\n",
        "print(rev)"
      ],
      "metadata": {
        "colab": {
          "base_uri": "https://localhost:8080/"
        },
        "id": "MVV38ltiYbSc",
        "outputId": "054c9904-189b-4051-e039-7f4789f0a03b"
      },
      "execution_count": null,
      "outputs": [
        {
          "output_type": "stream",
          "name": "stdout",
          "text": [
            "765\n",
            "567\n"
          ]
        }
      ]
    },
    {
      "cell_type": "code",
      "source": [
        "#simple code for reverse the number\n",
        "n=int(input())\n",
        "print(str(n)[::-1])"
      ],
      "metadata": {
        "colab": {
          "base_uri": "https://localhost:8080/"
        },
        "id": "prB7u1X1YoYr",
        "outputId": "0342521d-36fc-4b99-ea9f-18d2d6b882d7"
      },
      "execution_count": null,
      "outputs": [
        {
          "output_type": "stream",
          "name": "stdout",
          "text": [
            "456\n",
            "654\n"
          ]
        }
      ]
    },
    {
      "cell_type": "code",
      "source": [
        "#palindrome or not\n",
        "n=int(input())\n",
        "temp=n\n",
        "rev=0\n",
        "while n>0:\n",
        "  rem=n%10\n",
        "  rev=rev*10+rem\n",
        "  n=n//10\n",
        "if temp==rev:\n",
        "  print(\"palindrome\")\n",
        "else:\n",
        "  print(\"not palindrome\")"
      ],
      "metadata": {
        "colab": {
          "base_uri": "https://localhost:8080/"
        },
        "id": "i8f8_5jTYvBb",
        "outputId": "ce0f6392-52ba-4858-91ce-cfdddbcfdc20"
      },
      "execution_count": null,
      "outputs": [
        {
          "output_type": "stream",
          "name": "stdout",
          "text": [
            "45654\n",
            "palindrome\n"
          ]
        }
      ]
    },
    {
      "cell_type": "code",
      "source": [
        "#Arm strong number\n",
        "n=int(input())\n",
        "n=str(n)\n",
        "l=len(n)\n",
        "sum=0\n",
        "for i in n:\n",
        "  sum=sum+int(i)**l\n",
        "if sum==int(n):\n",
        "  print(\"arm strong\")\n",
        "else:\n",
        "  print(\"not arm strong\")"
      ],
      "metadata": {
        "colab": {
          "base_uri": "https://localhost:8080/"
        },
        "id": "gOjSawoRZAO9",
        "outputId": "864c586f-29c8-4df5-f603-a96867a1e303"
      },
      "execution_count": null,
      "outputs": [
        {
          "output_type": "stream",
          "name": "stdout",
          "text": [
            "123\n",
            "not arm strong\n"
          ]
        }
      ]
    },
    {
      "cell_type": "code",
      "source": [
        "#X_pattern\n",
        "def print_x_pattern(s1, s2):\n",
        "   length = len(s1)\n",
        "   for i in range(length):\n",
        "       if i == length // 2:\n",
        "         print(' ' * i + s1[i])\n",
        "       else:\n",
        "         print(s1[i] + ' ' * (length - 2) + s2[length - i - 1])\n",
        "s1 = \"madam\"\n",
        "s2 = \"radar\"\n",
        "print_x_pattern(s1, s2)"
      ],
      "metadata": {
        "id": "rQi8YSfHZXpb",
        "colab": {
          "base_uri": "https://localhost:8080/"
        },
        "outputId": "042a45af-9e1e-4268-92c3-d4f791977b6d"
      },
      "execution_count": null,
      "outputs": [
        {
          "output_type": "stream",
          "name": "stdout",
          "text": [
            "m   r\n",
            "a   a\n",
            "  d\n",
            "a   a\n",
            "m   r\n"
          ]
        }
      ]
    },
    {
      "cell_type": "code",
      "source": [
        "#Find out the first +ve missing element from the given array\n",
        "def fun(arr):\n",
        "  for i in range(1,len(arr)+2):\n",
        "    if i not in arr:\n",
        "      return i\n",
        "  return \" \"\n",
        "\n",
        "\n",
        "arr=list(map(int,input().split()))\n",
        "print(fun(arr))"
      ],
      "metadata": {
        "colab": {
          "base_uri": "https://localhost:8080/"
        },
        "id": "i9zNGtGaZg7L",
        "outputId": "e93bd491-445c-44dc-9ac2-781fea6fa1e8"
      },
      "execution_count": null,
      "outputs": [
        {
          "output_type": "stream",
          "name": "stdout",
          "text": [
            "1 2 4 5\n",
            "3\n"
          ]
        }
      ]
    },
    {
      "cell_type": "code",
      "source": [
        "#find the smallest positive integer which is not in list of array and the smallest positive value is not in sum of two elements in array list\n",
        "def fun(arr):\n",
        "  arr.sort()\n",
        "  s=1\n",
        "  for i in arr:\n",
        "    if i>s:\n",
        "      break\n",
        "    s=s+i\n",
        "  return s\n",
        "\n",
        "arr=list(map(int,input().split()))\n",
        "print(fun(arr))"
      ],
      "metadata": {
        "colab": {
          "base_uri": "https://localhost:8080/"
        },
        "id": "izocwsKjaNgs",
        "outputId": "2604ce40-0fa3-439c-f22f-68fab1a81840"
      },
      "execution_count": null,
      "outputs": [
        {
          "output_type": "stream",
          "name": "stdout",
          "text": [
            "2 3 1\n",
            "7\n"
          ]
        }
      ]
    },
    {
      "cell_type": "code",
      "source": [
        "#take two inputs jewels,stones  remove the duplicates in jewels and find the count of jewels in stones\n",
        "j=input()\n",
        "j=set(j)\n",
        "print(\"after remove duplicates:\",j)\n",
        "s=input()\n",
        "li=[]\n",
        "count=0\n",
        "for i in s:\n",
        "  if i in j:\n",
        "    li=li+[i]\n",
        "    count=count+1\n",
        "print(count)\n",
        "print(li)"
      ],
      "metadata": {
        "colab": {
          "base_uri": "https://localhost:8080/"
        },
        "id": "5BsPRPcVcu_c",
        "outputId": "a6be6807-f0a7-4511-e541-7f8f562a0837"
      },
      "execution_count": null,
      "outputs": [
        {
          "output_type": "stream",
          "name": "stdout",
          "text": [
            "aaAA\n",
            "after remove duplicates: {'a', 'A'}\n",
            "aaAAbbAa\n",
            "6\n",
            "['a', 'a', 'A', 'A', 'A', 'a']\n"
          ]
        }
      ]
    },
    {
      "cell_type": "code",
      "source": [
        "#largest element in array 1 8 7 56 90  output:90 here x is max\n",
        "def fun(arr):\n",
        "  x=arr[0]\n",
        "  for i in arr:\n",
        "    if i>x:\n",
        "      x=i\n",
        "  return x\n",
        "\n",
        "arr=list(map(int,input().split()))\n",
        "print(fun(arr))"
      ],
      "metadata": {
        "id": "VI7xXUu5lUQ8",
        "colab": {
          "base_uri": "https://localhost:8080/"
        },
        "outputId": "b66e691b-514d-4b7d-9445-3a923a1f9f64"
      },
      "execution_count": null,
      "outputs": [
        {
          "output_type": "stream",
          "name": "stdout",
          "text": [
            "27 77 89 54\n",
            "89\n"
          ]
        }
      ]
    },
    {
      "cell_type": "code",
      "source": [
        "#largest element in array\n",
        "arr=list(map(int,input().split()))\n",
        "print(max(arr))\n",
        "#largest element in array\n",
        "arr_1=list(map(int,input().split()))\n",
        "arr_1.sort()\n",
        "print(\"max:\",arr_1[-1])"
      ],
      "metadata": {
        "colab": {
          "base_uri": "https://localhost:8080/"
        },
        "id": "ywezL5nVY_EG",
        "outputId": "de90f605-20a5-4d94-f142-85cc415a9d73"
      },
      "execution_count": null,
      "outputs": [
        {
          "output_type": "stream",
          "name": "stdout",
          "text": [
            "24 67 45 2 89\n",
            "89\n",
            "45 99 67 75 39\n",
            "max: 99\n"
          ]
        }
      ]
    },
    {
      "cell_type": "code",
      "source": [
        "# find out the second largest element in the array it should not be equal to\n",
        "# first largest number 12 35 1 10 34 1 if not found return -1\n",
        "def fun(arr):\n",
        "  x=arr[0]\n",
        "  y=arr[0]\n",
        "  for i in arr:\n",
        "    if i>x:\n",
        "      x=i\n",
        "  for j in arr:\n",
        "    if j>y and j!=x:\n",
        "      y=j\n",
        "  return -1 if y==x else y\n",
        "\n",
        "arr=list(map(int,input().split()))\n",
        "print(fun(arr))\n",
        "\n"
      ],
      "metadata": {
        "colab": {
          "base_uri": "https://localhost:8080/"
        },
        "id": "Ej8D4b1GaZRn",
        "outputId": "9eb5fdfd-f3b4-47e2-c5d2-f54a096508b1"
      },
      "execution_count": null,
      "outputs": [
        {
          "output_type": "stream",
          "name": "stdout",
          "text": [
            "3 3 4 2 4\n",
            "3\n"
          ]
        }
      ]
    },
    {
      "cell_type": "code",
      "source": [
        "#1 2 3 4 5 6 7 output: 5 6 7 1 2 3 4 given an integer array nums, move all 0's to the end rotate k is the step of itearation\n",
        "def fun(arr,k):\n",
        "  for i in range(k):\n",
        "    x=arr[-1]\n",
        "    for j in range(len(arr)-1,0,-1):\n",
        "      arr[j]=arr[j-1]\n",
        "    arr[0]=x\n",
        "  return arr\n",
        "arr=list(map(int,input().split()))\n",
        "k=int(input())\n",
        "print(fun(arr,k))\n"
      ],
      "metadata": {
        "colab": {
          "base_uri": "https://localhost:8080/"
        },
        "id": "DGDZgGWKm_ZW",
        "outputId": "7e6b8cae-cc01-45a0-f2db-32a2fd938f8c"
      },
      "execution_count": null,
      "outputs": [
        {
          "output_type": "stream",
          "name": "stdout",
          "text": [
            "1 2 3 4 5 6 7\n",
            "3\n",
            "[5, 6, 7, 1, 2, 3, 4]\n"
          ]
        }
      ]
    },
    {
      "cell_type": "code",
      "source": [
        "#rotate the array list 1 2 3 4 output:3 4 1 2  in k is non negitive number k=2 here 2 times the array iteraties\n",
        "def fun(arr,k):\n",
        "  for i in range(k):\n",
        "    x=arr[0]\n",
        "    for j in range(len(arr)-1):\n",
        "      arr[j]=arr[j+1]\n",
        "    arr[-1]=x\n",
        "  return arr\n",
        "arr=list(map(int,input().split()))\n",
        "k=int(input())\n",
        "print(fun(arr,k))\n"
      ],
      "metadata": {
        "colab": {
          "base_uri": "https://localhost:8080/"
        },
        "id": "lN0ionmP4PoJ",
        "outputId": "290e7d83-c185-4010-e7ef-ce00b600293d"
      },
      "execution_count": null,
      "outputs": [
        {
          "output_type": "stream",
          "name": "stdout",
          "text": [
            "1 2 3 4 5 6 7\n",
            "3\n",
            "[4, 5, 6, 7, 1, 2, 3]\n"
          ]
        }
      ]
    },
    {
      "cell_type": "code",
      "source": [
        "arr=[1, 2, 3, 4, 5 ,6, 7]\n",
        "for i in arr:\n",
        "  x=arr[-1]\n",
        "print(x)\n",
        "print(arr)"
      ],
      "metadata": {
        "colab": {
          "base_uri": "https://localhost:8080/"
        },
        "id": "1KX5xwIvolSl",
        "outputId": "ee76fb43-1507-40e5-86c1-0ed3f16f33a1"
      },
      "execution_count": null,
      "outputs": [
        {
          "output_type": "stream",
          "name": "stdout",
          "text": [
            "7\n",
            "[1, 2, 3, 4, 5, 6, 7]\n"
          ]
        }
      ]
    },
    {
      "cell_type": "code",
      "source": [
        "#print the all zeros in last of the array ip:0 1 0 3 12  o/p:1 3 12 0 0\n",
        "def fun(arr):\n",
        "  zero=[]\n",
        "  non_zero=[]\n",
        "  for i in arr:\n",
        "    if i==0:\n",
        "      zero=zero+[i]\n",
        "    else:\n",
        "      non_zero=non_zero+[i]\n",
        "  return non_zero+zero\n",
        "arr=list(map(int,input().split()))\n",
        "print(fun(arr))"
      ],
      "metadata": {
        "colab": {
          "base_uri": "https://localhost:8080/"
        },
        "id": "jOEa1APy26cl",
        "outputId": "481a6537-e2b8-4a54-965c-dc99ac758660"
      },
      "execution_count": null,
      "outputs": [
        {
          "output_type": "stream",
          "name": "stdout",
          "text": [
            "1 0 3 0 0 3 4 5\n",
            "[1, 3, 3, 4, 5, 0, 0, 0]\n"
          ]
        }
      ]
    },
    {
      "cell_type": "code",
      "source": [
        "#print the all zeros in last of the array\n",
        "def fun(arr):\n",
        "  for i in arr:\n",
        "    if i==0:\n",
        "      arr.remove(i)\n",
        "      arr.append(i)\n",
        "  return arr\n",
        "arr=list(map(int,input().split()))\n",
        "print(fun(arr))"
      ],
      "metadata": {
        "colab": {
          "base_uri": "https://localhost:8080/"
        },
        "id": "fNqlTUP1EyF3",
        "outputId": "bb13183d-2223-4038-9476-660f9daa1477"
      },
      "execution_count": null,
      "outputs": [
        {
          "output_type": "stream",
          "name": "stdout",
          "text": [
            "1 0 2 3 0 0 3\n",
            "[1, 2, 3, 3, 0, 0, 0]\n"
          ]
        }
      ]
    },
    {
      "cell_type": "code",
      "source": [
        "#binary 1 1 1 1 0 0 1 1 1 0 0 find the max count consecutive 1's\n",
        "def fun(n):\n",
        "  count=0\n",
        "  li=[]\n",
        "  for i in range(len(n)):\n",
        "    if n[i]==1:\n",
        "      count=count+1\n",
        "    elif n[i]==0 or n[i]==len(n)-1:\n",
        "      li.append(count)\n",
        "    else:\n",
        "      li.append(count)\n",
        "      count=0\n",
        "  return max(li)\n",
        "n=list(map(int,input().split()))\n",
        "print(fun(n))\n"
      ],
      "metadata": {
        "colab": {
          "base_uri": "https://localhost:8080/"
        },
        "id": "3qdieorxFPlG",
        "outputId": "ad757a5a-94ce-4d44-e592-83fdf4612754"
      },
      "execution_count": null,
      "outputs": [
        {
          "output_type": "stream",
          "name": "stdout",
          "text": [
            "1 1 1 1 0 0 1 1 1 0 0\n",
            "7\n"
          ]
        }
      ]
    },
    {
      "cell_type": "code",
      "source": [
        "#search the element in the list of array\n",
        "def fun(arr):\n",
        "    if search in arr:\n",
        "      return True,\"found\"\n",
        "    else:\n",
        "      return False,\"not found\"\n",
        "\n",
        "arr=list(map(int,input().split()))\n",
        "search=int(input())\n",
        "print(fun(arr))"
      ],
      "metadata": {
        "colab": {
          "base_uri": "https://localhost:8080/"
        },
        "id": "q1V-dWsseA6l",
        "outputId": "b50c7ce9-d60a-4831-8ccb-7a01760d1d31"
      },
      "execution_count": null,
      "outputs": [
        {
          "output_type": "stream",
          "name": "stdout",
          "text": [
            "2 3 4 6 78 9\n",
            "4\n",
            "True\n"
          ]
        }
      ]
    },
    {
      "cell_type": "code",
      "source": [
        "def fun(arr):\n",
        "  for i in arr:\n",
        "    if i==search:\n",
        "      return True,\"found\"\n",
        "  return False,\"not found\"\n",
        "\n",
        "arr=list(map(int,input().split()))\n",
        "search=int(input())\n",
        "print(fun(arr))"
      ],
      "metadata": {
        "colab": {
          "base_uri": "https://localhost:8080/"
        },
        "id": "VP1Rtd-RfWtl",
        "outputId": "4838d725-64b1-4987-dd77-11860ba9b265"
      },
      "execution_count": null,
      "outputs": [
        {
          "output_type": "stream",
          "name": "stdout",
          "text": [
            "4 6 8 9 588 4 7 \n",
            "588\n",
            "(True, 'found')\n"
          ]
        }
      ]
    },
    {
      "cell_type": "code",
      "source": [
        "#take two arrays and remove duplicates and combine the two arrays and print the same elements also\n",
        "def fun(arr1,arr2):\n",
        "  x=set(arr1)\n",
        "  y=set(arr2)\n",
        "  print(\"combine\",list(x.union(y)))\n",
        "  print(\"same element\",list(x.intersection(y)))\n",
        "  return \" \"\n",
        "arr1=list(map(int,input().split()))\n",
        "arr2=list(map(int,input().split()))\n",
        "print(fun(arr1,arr2))"
      ],
      "metadata": {
        "colab": {
          "base_uri": "https://localhost:8080/"
        },
        "id": "LHdQIjyJghmW",
        "outputId": "117e888b-46c2-49c4-ab31-408efd06dcb5"
      },
      "execution_count": null,
      "outputs": [
        {
          "output_type": "stream",
          "name": "stdout",
          "text": [
            "1 3 4 5 7 8\n",
            "2 3 6 7 9 75\n",
            "combine [1, 2, 3, 4, 5, 6, 7, 8, 9, 75]\n",
            "same element [3, 7]\n",
            " \n"
          ]
        }
      ]
    },
    {
      "cell_type": "code",
      "source": [
        "#remove the duplicate elements in the array without using the set()\n",
        "def fun(arr):\n",
        "  li=[]\n",
        "  for i in arr:\n",
        "    if i not in li:\n",
        "      li.append(i)\n",
        "  return li\n",
        "\n",
        "arr=list(map(int,input().split()))\n",
        "print(fun(arr))"
      ],
      "metadata": {
        "colab": {
          "base_uri": "https://localhost:8080/"
        },
        "id": "-Lnhs4Rzh-Ts",
        "outputId": "c34edb02-5bfb-4e4e-90f5-0aeb78287d98"
      },
      "execution_count": null,
      "outputs": [
        {
          "output_type": "stream",
          "name": "stdout",
          "text": [
            "3 4 2 3 6 2 1 8\n",
            "[3, 4, 2, 6, 1, 8]\n"
          ]
        }
      ]
    },
    {
      "cell_type": "code",
      "source": [
        "#a=10 b=20 using third variable and without using temp variable\n",
        "#with using third variable\n",
        "a=int(input(\"a: \"))\n",
        "b=int(input(\"b: \"))\n",
        "temp=0\n",
        "temp=a\n",
        "a=b\n",
        "b=temp\n",
        "print(\"a:\",a,\"b:\",b)"
      ],
      "metadata": {
        "colab": {
          "base_uri": "https://localhost:8080/"
        },
        "id": "tM3xqzCDjcwk",
        "outputId": "d8a45fbe-32c1-42ff-e135-b63e381961c9"
      },
      "execution_count": null,
      "outputs": [
        {
          "output_type": "stream",
          "name": "stdout",
          "text": [
            "a: 10\n",
            "b: 20\n",
            "a: 20 b: 10\n"
          ]
        }
      ]
    },
    {
      "cell_type": "code",
      "source": [
        "#with out using third varible swap the two values\n",
        "a=int(input(\"a: \"))\n",
        "b=int(input(\"b: \"))\n",
        "a=a+b\n",
        "b=a-b\n",
        "a=a-b\n",
        "print(\"a:\",a,\"b:\",b)"
      ],
      "metadata": {
        "colab": {
          "base_uri": "https://localhost:8080/"
        },
        "id": "Tt_K4hlkkiTl",
        "outputId": "3ffe2d44-cec9-4256-b71e-9a348e5087fe"
      },
      "execution_count": null,
      "outputs": [
        {
          "output_type": "stream",
          "name": "stdout",
          "text": [
            "a: 10\n",
            "b: 20\n",
            "a: 20 b: 10\n"
          ]
        }
      ]
    },
    {
      "cell_type": "code",
      "source": [
        "#chained assignment\n",
        "a=b=c=10\n",
        "print(\"chained :\",a,b,c)\n",
        "#multiple assignment\n",
        "x,y,z=10,20,30\n",
        "print(\"multiple :\",x,y,z)\n",
        "#swapping\n",
        "n,k=10,20\n",
        "n,k=k,n\n",
        "print(\"swapping:\",n,k)"
      ],
      "metadata": {
        "colab": {
          "base_uri": "https://localhost:8080/"
        },
        "id": "EF_MjS2glBIV",
        "outputId": "022efe72-65c8-4c9e-d256-3f69d5d4696f"
      },
      "execution_count": null,
      "outputs": [
        {
          "output_type": "stream",
          "name": "stdout",
          "text": [
            "chained : 10 10 10\n",
            "multiple : 10 20 30\n",
            "swapping: 20 10\n"
          ]
        }
      ]
    },
    {
      "cell_type": "code",
      "source": [
        "#wave array\n",
        "def fun(arr):\n",
        "  n=len(arr)\n",
        "  for i in range(1,n,2):\n",
        "    if arr[i]>=arr[i-1]:\n",
        "      arr[i],arr[i-1]=arr[i-1],arr[i]\n",
        "    if arr[i]>=arr[i+1] and i<n-1:\n",
        "      arr[i],arr[i+1]=arr[i+1],arr[i]\n",
        "  return arr\n",
        "\n",
        "\n",
        "n=int(input())\n",
        "arr=list(map(int,input().split()))\n",
        "b=set(arr)\n",
        "wave=list(b)\n",
        "wave.sort()\n",
        "print(fun(wave))"
      ],
      "metadata": {
        "colab": {
          "base_uri": "https://localhost:8080/"
        },
        "id": "Z4U5dSlEuQ3G",
        "outputId": "6eac1c68-ddf4-4846-f948-41ef25250e65"
      },
      "execution_count": null,
      "outputs": [
        {
          "output_type": "stream",
          "name": "stdout",
          "text": [
            "5\n",
            "1 2 3 4 5\n",
            "[2, 1, 4, 3, 5]\n"
          ]
        }
      ]
    },
    {
      "cell_type": "code",
      "source": [],
      "metadata": {
        "id": "Rre_LcNjxnzV"
      },
      "execution_count": null,
      "outputs": []
    }
  ],
  "metadata": {
    "colab": {
      "provenance": [],
      "authorship_tag": "ABX9TyMddwZpE7JvJ9a7AON44MHz",
      "include_colab_link": true
    },
    "kernelspec": {
      "display_name": "Python 3",
      "name": "python3"
    },
    "language_info": {
      "name": "python"
    }
  },
  "nbformat": 4,
  "nbformat_minor": 0
}